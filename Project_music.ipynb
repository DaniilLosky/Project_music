{
 "cells": [
  {
   "cell_type": "markdown",
   "metadata": {
    "deletable": false,
    "editable": false,
    "id": "E0vqbgi9ay0H"
   },
   "source": [
    "# Яндекс Музыка"
   ]
  },
  {
   "cell_type": "markdown",
   "metadata": {
    "deletable": false,
    "editable": false,
    "id": "VUC88oWjTJw2"
   },
   "source": [
    "Сравнение Москвы и Петербурга окружено мифами. Например:\n",
    " * Москва — мегаполис, подчинённый жёсткому ритму рабочей недели;\n",
    " * Петербург — культурная столица, со своими вкусами.\n",
    "\n",
    "На данных Яндекс Музыки вы сравните поведение пользователей двух столиц.\n",
    "\n",
    "**Цель исследования** — проверьте три гипотезы:\n",
    "1. Активность пользователей зависит от дня недели. Причём в Москве и Петербурге это проявляется по-разному.\n",
    "2. В понедельник утром в Москве преобладают одни жанры, а в Петербурге — другие. Так же и вечером пятницы преобладают разные жанры — в зависимости от города. \n",
    "3. Москва и Петербург предпочитают разные жанры музыки. В Москве чаще слушают поп-музыку, в Петербурге — русский рэп.\n",
    "\n",
    "**Ход исследования**\n",
    "\n",
    "Данные о поведении пользователей вы получите из файла `yandex_music_project.csv`. О качестве данных ничего не известно. Поэтому перед проверкой гипотез понадобится обзор данных. \n",
    "\n",
    "Вы проверите данные на ошибки и оцените их влияние на исследование. Затем, на этапе предобработки вы поищете возможность исправить самые критичные ошибки данных.\n",
    " \n",
    "Таким образом, исследование пройдёт в три этапа:\n",
    " 1. Обзор данных.\n",
    " 2. Предобработка данных.\n",
    " 3. Проверка гипотез.\n",
    "\n"
   ]
  },
  {
   "cell_type": "markdown",
   "metadata": {
    "deletable": false,
    "editable": false,
    "id": "Ml1hmfXC_Zcs"
   },
   "source": [
    "## Обзор данных\n",
    "\n",
    "Составьте первое представление о данных Яндекс Музыки.\n",
    "\n",
    "\n"
   ]
  },
  {
   "cell_type": "markdown",
   "metadata": {
    "deletable": false,
    "editable": false,
    "id": "57eAOGIz_Zcs",
    "tags": [
     "start_task"
    ]
   },
   "source": [
    "**Задание 1**\n",
    "\n",
    "Основной инструмент аналитика — `pandas`. Импортируйте эту библиотеку."
   ]
  },
  {
   "cell_type": "code",
   "execution_count": 103,
   "metadata": {
    "deletable": false,
    "id": "AXN7PHPN_Zcs"
   },
   "outputs": [],
   "source": [
    "import pandas as pd# импорт библиотеки pandas"
   ]
  },
  {
   "cell_type": "markdown",
   "metadata": {
    "deletable": false,
    "editable": false,
    "id": "SG23P8tt_Zcs",
    "tags": [
     "start_task"
    ]
   },
   "source": [
    "**Задание 2**\n",
    "\n",
    "Прочитайте файл `yandex_music_project.csv` из папки `/datasets` и сохраните его в переменной `df`:"
   ]
  },
  {
   "cell_type": "code",
   "execution_count": 104,
   "metadata": {
    "deletable": false,
    "id": "fFVu7vqh_Zct"
   },
   "outputs": [],
   "source": [
    "df = pd.read_csv('/datasets/yandex_music_project.csv')# чтение файла с данными и сохранение в df"
   ]
  },
  {
   "cell_type": "markdown",
   "metadata": {
    "deletable": false,
    "editable": false,
    "id": "rDoOMd3uTqnZ",
    "tags": [
     "start_task"
    ]
   },
   "source": [
    "**Задание 3**\n",
    "\n",
    "\n",
    "Выведите на экран первые десять строк таблицы:"
   ]
  },
  {
   "cell_type": "code",
   "execution_count": 105,
   "metadata": {
    "deletable": false,
    "id": "oWTVX3gW_Zct"
   },
   "outputs": [
    {
     "data": {
      "text/html": [
       "<div>\n",
       "<style scoped>\n",
       "    .dataframe tbody tr th:only-of-type {\n",
       "        vertical-align: middle;\n",
       "    }\n",
       "\n",
       "    .dataframe tbody tr th {\n",
       "        vertical-align: top;\n",
       "    }\n",
       "\n",
       "    .dataframe thead th {\n",
       "        text-align: right;\n",
       "    }\n",
       "</style>\n",
       "<table border=\"1\" class=\"dataframe\">\n",
       "  <thead>\n",
       "    <tr style=\"text-align: right;\">\n",
       "      <th></th>\n",
       "      <th>userID</th>\n",
       "      <th>Track</th>\n",
       "      <th>artist</th>\n",
       "      <th>genre</th>\n",
       "      <th>City</th>\n",
       "      <th>time</th>\n",
       "      <th>Day</th>\n",
       "    </tr>\n",
       "  </thead>\n",
       "  <tbody>\n",
       "    <tr>\n",
       "      <th>0</th>\n",
       "      <td>FFB692EC</td>\n",
       "      <td>Kamigata To Boots</td>\n",
       "      <td>The Mass Missile</td>\n",
       "      <td>rock</td>\n",
       "      <td>Saint-Petersburg</td>\n",
       "      <td>20:28:33</td>\n",
       "      <td>Wednesday</td>\n",
       "    </tr>\n",
       "    <tr>\n",
       "      <th>1</th>\n",
       "      <td>55204538</td>\n",
       "      <td>Delayed Because of Accident</td>\n",
       "      <td>Andreas Rönnberg</td>\n",
       "      <td>rock</td>\n",
       "      <td>Moscow</td>\n",
       "      <td>14:07:09</td>\n",
       "      <td>Friday</td>\n",
       "    </tr>\n",
       "    <tr>\n",
       "      <th>2</th>\n",
       "      <td>20EC38</td>\n",
       "      <td>Funiculì funiculà</td>\n",
       "      <td>Mario Lanza</td>\n",
       "      <td>pop</td>\n",
       "      <td>Saint-Petersburg</td>\n",
       "      <td>20:58:07</td>\n",
       "      <td>Wednesday</td>\n",
       "    </tr>\n",
       "    <tr>\n",
       "      <th>3</th>\n",
       "      <td>A3DD03C9</td>\n",
       "      <td>Dragons in the Sunset</td>\n",
       "      <td>Fire + Ice</td>\n",
       "      <td>folk</td>\n",
       "      <td>Saint-Petersburg</td>\n",
       "      <td>08:37:09</td>\n",
       "      <td>Monday</td>\n",
       "    </tr>\n",
       "    <tr>\n",
       "      <th>4</th>\n",
       "      <td>E2DC1FAE</td>\n",
       "      <td>Soul People</td>\n",
       "      <td>Space Echo</td>\n",
       "      <td>dance</td>\n",
       "      <td>Moscow</td>\n",
       "      <td>08:34:34</td>\n",
       "      <td>Monday</td>\n",
       "    </tr>\n",
       "    <tr>\n",
       "      <th>5</th>\n",
       "      <td>842029A1</td>\n",
       "      <td>Преданная</td>\n",
       "      <td>IMPERVTOR</td>\n",
       "      <td>rusrap</td>\n",
       "      <td>Saint-Petersburg</td>\n",
       "      <td>13:09:41</td>\n",
       "      <td>Friday</td>\n",
       "    </tr>\n",
       "    <tr>\n",
       "      <th>6</th>\n",
       "      <td>4CB90AA5</td>\n",
       "      <td>True</td>\n",
       "      <td>Roman Messer</td>\n",
       "      <td>dance</td>\n",
       "      <td>Moscow</td>\n",
       "      <td>13:00:07</td>\n",
       "      <td>Wednesday</td>\n",
       "    </tr>\n",
       "    <tr>\n",
       "      <th>7</th>\n",
       "      <td>F03E1C1F</td>\n",
       "      <td>Feeling This Way</td>\n",
       "      <td>Polina Griffith</td>\n",
       "      <td>dance</td>\n",
       "      <td>Moscow</td>\n",
       "      <td>20:47:49</td>\n",
       "      <td>Wednesday</td>\n",
       "    </tr>\n",
       "    <tr>\n",
       "      <th>8</th>\n",
       "      <td>8FA1D3BE</td>\n",
       "      <td>И вновь продолжается бой</td>\n",
       "      <td>NaN</td>\n",
       "      <td>ruspop</td>\n",
       "      <td>Moscow</td>\n",
       "      <td>09:17:40</td>\n",
       "      <td>Friday</td>\n",
       "    </tr>\n",
       "    <tr>\n",
       "      <th>9</th>\n",
       "      <td>E772D5C0</td>\n",
       "      <td>Pessimist</td>\n",
       "      <td>NaN</td>\n",
       "      <td>dance</td>\n",
       "      <td>Saint-Petersburg</td>\n",
       "      <td>21:20:49</td>\n",
       "      <td>Wednesday</td>\n",
       "    </tr>\n",
       "  </tbody>\n",
       "</table>\n",
       "</div>"
      ],
      "text/plain": [
       "     userID                        Track            artist   genre  \\\n",
       "0  FFB692EC            Kamigata To Boots  The Mass Missile    rock   \n",
       "1  55204538  Delayed Because of Accident  Andreas Rönnberg    rock   \n",
       "2    20EC38            Funiculì funiculà       Mario Lanza     pop   \n",
       "3  A3DD03C9        Dragons in the Sunset        Fire + Ice    folk   \n",
       "4  E2DC1FAE                  Soul People        Space Echo   dance   \n",
       "5  842029A1                    Преданная         IMPERVTOR  rusrap   \n",
       "6  4CB90AA5                         True      Roman Messer   dance   \n",
       "7  F03E1C1F             Feeling This Way   Polina Griffith   dance   \n",
       "8  8FA1D3BE     И вновь продолжается бой               NaN  ruspop   \n",
       "9  E772D5C0                    Pessimist               NaN   dance   \n",
       "\n",
       "             City        time        Day  \n",
       "0  Saint-Petersburg  20:28:33  Wednesday  \n",
       "1            Moscow  14:07:09     Friday  \n",
       "2  Saint-Petersburg  20:58:07  Wednesday  \n",
       "3  Saint-Petersburg  08:37:09     Monday  \n",
       "4            Moscow  08:34:34     Monday  \n",
       "5  Saint-Petersburg  13:09:41     Friday  \n",
       "6            Moscow  13:00:07  Wednesday  \n",
       "7            Moscow  20:47:49  Wednesday  \n",
       "8            Moscow  09:17:40     Friday  \n",
       "9  Saint-Petersburg  21:20:49  Wednesday  "
      ]
     },
     "execution_count": 105,
     "metadata": {},
     "output_type": "execute_result"
    }
   ],
   "source": [
    "df.head(10)# получение первых 10 строк таблицы df"
   ]
  },
  {
   "cell_type": "markdown",
   "metadata": {
    "deletable": false,
    "editable": false,
    "id": "EO73Kwic_Zct",
    "tags": [
     "start_task"
    ]
   },
   "source": [
    "**Задание 4**\n",
    "\n",
    "\n",
    "Одной командой получить общую информацию о таблице c помощью метода `info()`:"
   ]
  },
  {
   "cell_type": "code",
   "execution_count": 106,
   "metadata": {
    "deletable": false,
    "id": "DSf2kIb-_Zct"
   },
   "outputs": [
    {
     "name": "stdout",
     "output_type": "stream",
     "text": [
      "<class 'pandas.core.frame.DataFrame'>\n",
      "RangeIndex: 65079 entries, 0 to 65078\n",
      "Data columns (total 7 columns):\n",
      " #   Column    Non-Null Count  Dtype \n",
      "---  ------    --------------  ----- \n",
      " 0     userID  65079 non-null  object\n",
      " 1   Track     63848 non-null  object\n",
      " 2   artist    57876 non-null  object\n",
      " 3   genre     63881 non-null  object\n",
      " 4     City    65079 non-null  object\n",
      " 5   time      65079 non-null  object\n",
      " 6   Day       65079 non-null  object\n",
      "dtypes: object(7)\n",
      "memory usage: 3.5+ MB\n"
     ]
    }
   ],
   "source": [
    "df.info() # получение общей информации о данных в таблице df"
   ]
  },
  {
   "cell_type": "markdown",
   "metadata": {
    "deletable": false,
    "editable": false,
    "id": "TaQ2Iwbr_Zct"
   },
   "source": [
    "Итак, в таблице семь столбцов. Тип данных во всех столбцах — `object`.\n",
    "\n",
    "Согласно документации к данным:\n",
    "* `userID` — идентификатор пользователя;\n",
    "* `Track` — название трека;  \n",
    "* `artist` — имя исполнителя;\n",
    "* `genre` — название жанра;\n",
    "* `City` — город пользователя;\n",
    "* `time` — время начала прослушивания;\n",
    "* `Day` — день недели.\n",
    "\n",
    "Количество значений в столбцах различается. Значит, в данных есть пропущенные значения."
   ]
  },
  {
   "cell_type": "markdown",
   "metadata": {
    "deletable": false,
    "editable": false,
    "id": "4P0UCWzswgEm",
    "tags": [
     "start_task"
    ]
   },
   "source": [
    "**Задание 5**\n",
    "\n",
    "**Вопрос со свободной формой ответа**\n",
    "\n",
    "В названиях колонок видны три нарушения стиля:\n",
    "1. Строчные буквы сочетаются с прописными.\n",
    "2. Встречаются пробелы."
   ]
  },
  {
   "cell_type": "code",
   "execution_count": 107,
   "metadata": {
    "id": "c137-ZstwgEm"
   },
   "outputs": [],
   "source": [
    " # Напишите ваш ответ здесь комментарием. Не удаляйте символ #. Не меняйте тип этой ячейки на Markdown."
   ]
  },
  {
   "cell_type": "markdown",
   "metadata": {
    "deletable": false,
    "editable": false,
    "id": "MCB6-dXG_Zct"
   },
   "source": [
    "**Выводы**\n",
    "\n",
    "В каждой строке таблицы — данные о прослушанном треке. Часть колонок описывает саму композицию: название, исполнителя и жанр. Остальные данные рассказывают о пользователе: из какого он города, когда он слушал музыку. \n",
    "\n",
    "Предварительно можно утверждать, что, данных достаточно для проверки гипотез. Но встречаются пропуски в данных, а в названиях колонок — расхождения с хорошим стилем.\n",
    "\n",
    "Чтобы двигаться дальше, нужно устранить проблемы в данных."
   ]
  },
  {
   "cell_type": "markdown",
   "metadata": {
    "deletable": false,
    "editable": false,
    "id": "SjYF6Ub9_Zct"
   },
   "source": [
    "## Предобработка данных\n",
    "Исправьте стиль в заголовках столбцов, исключите пропуски. Затем проверьте данные на дубликаты."
   ]
  },
  {
   "cell_type": "markdown",
   "metadata": {
    "deletable": false,
    "editable": false,
    "id": "dIaKXr29_Zct",
    "tags": [
     "start_task"
    ]
   },
   "source": [
    "### Стиль заголовков\n",
    "\n",
    "**Задание 6**\n",
    "\n",
    "Выведите на экран названия столбцов:"
   ]
  },
  {
   "cell_type": "code",
   "execution_count": 108,
   "metadata": {
    "deletable": false,
    "id": "oKOTdF_Q_Zct"
   },
   "outputs": [
    {
     "data": {
      "text/plain": [
       "Index(['  userID', 'Track', 'artist', 'genre', '  City  ', 'time', 'Day'], dtype='object')"
      ]
     },
     "execution_count": 108,
     "metadata": {},
     "output_type": "execute_result"
    }
   ],
   "source": [
    "df.columns # перечень названий столбцов таблицы df"
   ]
  },
  {
   "cell_type": "markdown",
   "metadata": {
    "deletable": false,
    "editable": false,
    "id": "zj5534cv_Zct",
    "tags": [
     "start_task"
    ]
   },
   "source": [
    "**Задание 7**\n",
    "\n",
    "\n",
    "Приведите названия в соответствие с хорошим стилем:\n",
    "* несколько слов в названии запишите в «змеином_регистре»,\n",
    "* все символы сделайте строчными,\n",
    "* устраните пробелы.\n",
    "\n",
    "Для этого переименуйте колонки так:\n",
    "* `'  userID'` → `'user_id'`;\n",
    "* `'Track'` → `'track'`;\n",
    "* `'  City  '` → `'city'`;\n",
    "* `'Day'` → `'day'`."
   ]
  },
  {
   "cell_type": "code",
   "execution_count": 109,
   "metadata": {
    "deletable": false,
    "id": "ISlFqs5y_Zct"
   },
   "outputs": [
    {
     "data": {
      "text/html": [
       "<div>\n",
       "<style scoped>\n",
       "    .dataframe tbody tr th:only-of-type {\n",
       "        vertical-align: middle;\n",
       "    }\n",
       "\n",
       "    .dataframe tbody tr th {\n",
       "        vertical-align: top;\n",
       "    }\n",
       "\n",
       "    .dataframe thead th {\n",
       "        text-align: right;\n",
       "    }\n",
       "</style>\n",
       "<table border=\"1\" class=\"dataframe\">\n",
       "  <thead>\n",
       "    <tr style=\"text-align: right;\">\n",
       "      <th></th>\n",
       "      <th>user_id</th>\n",
       "      <th>track</th>\n",
       "      <th>artist</th>\n",
       "      <th>genre</th>\n",
       "      <th>city</th>\n",
       "      <th>time</th>\n",
       "      <th>day</th>\n",
       "    </tr>\n",
       "  </thead>\n",
       "  <tbody>\n",
       "    <tr>\n",
       "      <th>0</th>\n",
       "      <td>FFB692EC</td>\n",
       "      <td>Kamigata To Boots</td>\n",
       "      <td>The Mass Missile</td>\n",
       "      <td>rock</td>\n",
       "      <td>Saint-Petersburg</td>\n",
       "      <td>20:28:33</td>\n",
       "      <td>Wednesday</td>\n",
       "    </tr>\n",
       "    <tr>\n",
       "      <th>1</th>\n",
       "      <td>55204538</td>\n",
       "      <td>Delayed Because of Accident</td>\n",
       "      <td>Andreas Rönnberg</td>\n",
       "      <td>rock</td>\n",
       "      <td>Moscow</td>\n",
       "      <td>14:07:09</td>\n",
       "      <td>Friday</td>\n",
       "    </tr>\n",
       "    <tr>\n",
       "      <th>2</th>\n",
       "      <td>20EC38</td>\n",
       "      <td>Funiculì funiculà</td>\n",
       "      <td>Mario Lanza</td>\n",
       "      <td>pop</td>\n",
       "      <td>Saint-Petersburg</td>\n",
       "      <td>20:58:07</td>\n",
       "      <td>Wednesday</td>\n",
       "    </tr>\n",
       "    <tr>\n",
       "      <th>3</th>\n",
       "      <td>A3DD03C9</td>\n",
       "      <td>Dragons in the Sunset</td>\n",
       "      <td>Fire + Ice</td>\n",
       "      <td>folk</td>\n",
       "      <td>Saint-Petersburg</td>\n",
       "      <td>08:37:09</td>\n",
       "      <td>Monday</td>\n",
       "    </tr>\n",
       "    <tr>\n",
       "      <th>4</th>\n",
       "      <td>E2DC1FAE</td>\n",
       "      <td>Soul People</td>\n",
       "      <td>Space Echo</td>\n",
       "      <td>dance</td>\n",
       "      <td>Moscow</td>\n",
       "      <td>08:34:34</td>\n",
       "      <td>Monday</td>\n",
       "    </tr>\n",
       "    <tr>\n",
       "      <th>...</th>\n",
       "      <td>...</td>\n",
       "      <td>...</td>\n",
       "      <td>...</td>\n",
       "      <td>...</td>\n",
       "      <td>...</td>\n",
       "      <td>...</td>\n",
       "      <td>...</td>\n",
       "    </tr>\n",
       "    <tr>\n",
       "      <th>65074</th>\n",
       "      <td>729CBB09</td>\n",
       "      <td>My Name</td>\n",
       "      <td>McLean</td>\n",
       "      <td>rnb</td>\n",
       "      <td>Moscow</td>\n",
       "      <td>13:32:28</td>\n",
       "      <td>Wednesday</td>\n",
       "    </tr>\n",
       "    <tr>\n",
       "      <th>65075</th>\n",
       "      <td>D08D4A55</td>\n",
       "      <td>Maybe One Day (feat. Black Spade)</td>\n",
       "      <td>Blu &amp; Exile</td>\n",
       "      <td>hip</td>\n",
       "      <td>Saint-Petersburg</td>\n",
       "      <td>10:00:00</td>\n",
       "      <td>Monday</td>\n",
       "    </tr>\n",
       "    <tr>\n",
       "      <th>65076</th>\n",
       "      <td>C5E3A0D5</td>\n",
       "      <td>Jalopiina</td>\n",
       "      <td>NaN</td>\n",
       "      <td>industrial</td>\n",
       "      <td>Moscow</td>\n",
       "      <td>20:09:26</td>\n",
       "      <td>Friday</td>\n",
       "    </tr>\n",
       "    <tr>\n",
       "      <th>65077</th>\n",
       "      <td>321D0506</td>\n",
       "      <td>Freight Train</td>\n",
       "      <td>Chas McDevitt</td>\n",
       "      <td>rock</td>\n",
       "      <td>Moscow</td>\n",
       "      <td>21:43:59</td>\n",
       "      <td>Friday</td>\n",
       "    </tr>\n",
       "    <tr>\n",
       "      <th>65078</th>\n",
       "      <td>3A64EF84</td>\n",
       "      <td>Tell Me Sweet Little Lies</td>\n",
       "      <td>Monica Lopez</td>\n",
       "      <td>country</td>\n",
       "      <td>Moscow</td>\n",
       "      <td>21:59:46</td>\n",
       "      <td>Friday</td>\n",
       "    </tr>\n",
       "  </tbody>\n",
       "</table>\n",
       "<p>65079 rows × 7 columns</p>\n",
       "</div>"
      ],
      "text/plain": [
       "        user_id                              track            artist  \\\n",
       "0      FFB692EC                  Kamigata To Boots  The Mass Missile   \n",
       "1      55204538        Delayed Because of Accident  Andreas Rönnberg   \n",
       "2        20EC38                  Funiculì funiculà       Mario Lanza   \n",
       "3      A3DD03C9              Dragons in the Sunset        Fire + Ice   \n",
       "4      E2DC1FAE                        Soul People        Space Echo   \n",
       "...         ...                                ...               ...   \n",
       "65074  729CBB09                            My Name            McLean   \n",
       "65075  D08D4A55  Maybe One Day (feat. Black Spade)       Blu & Exile   \n",
       "65076  C5E3A0D5                          Jalopiina               NaN   \n",
       "65077  321D0506                      Freight Train     Chas McDevitt   \n",
       "65078  3A64EF84          Tell Me Sweet Little Lies      Monica Lopez   \n",
       "\n",
       "            genre              city      time        day  \n",
       "0            rock  Saint-Petersburg  20:28:33  Wednesday  \n",
       "1            rock            Moscow  14:07:09     Friday  \n",
       "2             pop  Saint-Petersburg  20:58:07  Wednesday  \n",
       "3            folk  Saint-Petersburg  08:37:09     Monday  \n",
       "4           dance            Moscow  08:34:34     Monday  \n",
       "...           ...               ...       ...        ...  \n",
       "65074         rnb            Moscow  13:32:28  Wednesday  \n",
       "65075         hip  Saint-Petersburg  10:00:00     Monday  \n",
       "65076  industrial            Moscow  20:09:26     Friday  \n",
       "65077        rock            Moscow  21:43:59     Friday  \n",
       "65078     country            Moscow  21:59:46     Friday  \n",
       "\n",
       "[65079 rows x 7 columns]"
      ]
     },
     "execution_count": 109,
     "metadata": {},
     "output_type": "execute_result"
    }
   ],
   "source": [
    "df = df.rename(columns={'  userID':'user_id', 'Track':'track', '  City  ':'city', 'Day':'day'})\n",
    "df# переименование столбцов"
   ]
  },
  {
   "cell_type": "markdown",
   "metadata": {
    "deletable": false,
    "editable": false,
    "id": "1dqbh00J_Zct",
    "tags": [
     "start_task"
    ]
   },
   "source": [
    "**Задание 8**\n",
    "\n",
    "\n",
    "Проверьте результат. Для этого ещё раз выведите на экран названия столбцов:"
   ]
  },
  {
   "cell_type": "code",
   "execution_count": 110,
   "metadata": {
    "deletable": false,
    "id": "d4NOAmTW_Zct"
   },
   "outputs": [
    {
     "data": {
      "text/plain": [
       "Index(['user_id', 'track', 'artist', 'genre', 'city', 'time', 'day'], dtype='object')"
      ]
     },
     "execution_count": 110,
     "metadata": {},
     "output_type": "execute_result"
    }
   ],
   "source": [
    "df.columns # проверка результатов - перечень названий столбцов"
   ]
  },
  {
   "cell_type": "markdown",
   "metadata": {
    "deletable": false,
    "editable": false,
    "id": "5ISfbcfY_Zct",
    "tags": [
     "start_task"
    ]
   },
   "source": [
    "### Пропуски значений\n",
    "\n",
    "**Задание 9**\n",
    "\n",
    "Сначала посчитайте, сколько в таблице пропущенных значений. Для этого достаточно двух методов `pandas`:"
   ]
  },
  {
   "cell_type": "code",
   "execution_count": 111,
   "metadata": {
    "deletable": false,
    "id": "RskX29qr_Zct"
   },
   "outputs": [
    {
     "name": "stdout",
     "output_type": "stream",
     "text": [
      "user_id       0\n",
      "track      1231\n",
      "artist     7203\n",
      "genre      1198\n",
      "city          0\n",
      "time          0\n",
      "day           0\n",
      "dtype: int64\n"
     ]
    }
   ],
   "source": [
    "print(df.isna().sum()) # подсчёт пропусков"
   ]
  },
  {
   "cell_type": "markdown",
   "metadata": {
    "deletable": false,
    "editable": false,
    "id": "qubhgnlO_Zct"
   },
   "source": [
    "Не все пропущенные значения влияют на исследование. Так в `track` и `artist` пропуски не важны для вашей работы. Достаточно заменить их явными обозначениями.\n",
    "\n",
    "Но пропуски в `genre` могут помешать сравнению музыкальных вкусов в Москве и Санкт-Петербурге. На практике было бы правильно установить причину пропусков и восстановить данные. Такой возможности нет в учебном проекте. Придётся:\n",
    "* заполнить и эти пропуски явными обозначениями,\n",
    "* оценить, насколько они повредят расчётам. "
   ]
  },
  {
   "cell_type": "markdown",
   "metadata": {
    "deletable": false,
    "editable": false,
    "id": "fSv2laPA_Zct",
    "tags": [
     "start_task"
    ]
   },
   "source": [
    "**Задание 10**\n",
    "\n",
    "Замените пропущенные значения в столбцах `track`, `artist` и `genre` на строку `'unknown'`. Для этого создайте список `columns_to_replace`, переберите его элементы циклом `for` и для каждого столбца выполните замену пропущенных значений:"
   ]
  },
  {
   "cell_type": "code",
   "execution_count": 112,
   "metadata": {
    "deletable": false,
    "id": "KplB5qWs_Zct"
   },
   "outputs": [],
   "source": [
    "columns_to_replace = ['track','artist','genre'] # перебор названий столбцов в цикле и замена пропущенных значений на 'unknown'\n",
    "for column in columns_to_replace:\n",
    "    df[column] = df[column].fillna('unknown')"
   ]
  },
  {
   "cell_type": "markdown",
   "metadata": {
    "deletable": false,
    "editable": false,
    "id": "Ilsm-MZo_Zct",
    "tags": [
     "start_task"
    ]
   },
   "source": [
    "**Задание 11**\n",
    "\n",
    "Убедитесь, что в таблице не осталось пропусков. Для этого ещё раз посчитайте пропущенные значения."
   ]
  },
  {
   "cell_type": "code",
   "execution_count": 113,
   "metadata": {
    "deletable": false,
    "id": "Tq4nYRX4_Zct"
   },
   "outputs": [
    {
     "name": "stdout",
     "output_type": "stream",
     "text": [
      "user_id    0\n",
      "track      0\n",
      "artist     0\n",
      "genre      0\n",
      "city       0\n",
      "time       0\n",
      "day        0\n",
      "dtype: int64\n"
     ]
    }
   ],
   "source": [
    "print(df.isna().sum()) # подсчёт пропусков"
   ]
  },
  {
   "cell_type": "markdown",
   "metadata": {
    "deletable": false,
    "editable": false,
    "id": "BWKRtBJ3_Zct",
    "tags": [
     "start_task"
    ]
   },
   "source": [
    "### Дубликаты\n",
    "\n",
    "**Задание 12**\n",
    "\n",
    "Посчитайте явные дубликаты в таблице одной командой:"
   ]
  },
  {
   "cell_type": "code",
   "execution_count": 114,
   "metadata": {
    "deletable": false,
    "id": "36eES_S0_Zct"
   },
   "outputs": [
    {
     "name": "stdout",
     "output_type": "stream",
     "text": [
      "3826\n"
     ]
    }
   ],
   "source": [
    "print(df.duplicated().sum()) # подсчёт явных дубликатов"
   ]
  },
  {
   "cell_type": "markdown",
   "metadata": {
    "deletable": false,
    "editable": false,
    "id": "Ot25h6XR_Zct",
    "tags": [
     "start_task"
    ]
   },
   "source": [
    "**Задание 13**\n",
    "\n",
    "Вызовите специальный метод `pandas`, чтобы удалить явные дубликаты:"
   ]
  },
  {
   "cell_type": "code",
   "execution_count": 115,
   "metadata": {
    "deletable": false,
    "id": "exFHq6tt_Zct"
   },
   "outputs": [],
   "source": [
    "df = df.drop_duplicates() # удаление явных дубликатов (с удалением старых индексов и формированием новых)"
   ]
  },
  {
   "cell_type": "markdown",
   "metadata": {
    "deletable": false,
    "editable": false,
    "id": "Im2YwBEG_Zct",
    "tags": [
     "start_task"
    ]
   },
   "source": [
    "**Задание 14**\n",
    "\n",
    "Ещё раз посчитайте явные дубликаты в таблице — убедитесь, что полностью от них избавились:"
   ]
  },
  {
   "cell_type": "code",
   "execution_count": 116,
   "metadata": {
    "deletable": false,
    "id": "-8PuNWQ0_Zct"
   },
   "outputs": [
    {
     "data": {
      "text/plain": [
       "0"
      ]
     },
     "execution_count": 116,
     "metadata": {},
     "output_type": "execute_result"
    }
   ],
   "source": [
    "df.duplicated().sum()# проверка на отсутствие дубликатов"
   ]
  },
  {
   "cell_type": "markdown",
   "metadata": {
    "deletable": false,
    "editable": false,
    "id": "QlFBsxAr_Zct"
   },
   "source": [
    "Теперь избавьтесь от неявных дубликатов в колонке `genre`. Например, название одного и того же жанра может быть записано немного по-разному. Такие ошибки тоже повлияют на результат исследования."
   ]
  },
  {
   "cell_type": "markdown",
   "metadata": {
    "deletable": false,
    "editable": false,
    "id": "eSjWwsOh_Zct",
    "tags": [
     "start_task"
    ]
   },
   "source": [
    "**Задание 15**\n",
    "\n",
    "Выведите на экран список уникальных названий жанров, отсортированный в алфавитном порядке. Для этого:\n",
    "* извлеките нужный столбец датафрейма, \n",
    "* примените к нему метод сортировки,\n",
    "* для отсортированного столбца вызовите метод, который вернёт уникальные значения из столбца."
   ]
  },
  {
   "cell_type": "code",
   "execution_count": 117,
   "metadata": {
    "deletable": false,
    "id": "JIUcqzZN_Zct"
   },
   "outputs": [
    {
     "data": {
      "text/plain": [
       "array(['acid', 'acoustic', 'action', 'adult', 'africa', 'afrikaans',\n",
       "       'alternative', 'alternativepunk', 'ambient', 'americana',\n",
       "       'animated', 'anime', 'arabesk', 'arabic', 'arena',\n",
       "       'argentinetango', 'art', 'audiobook', 'author', 'avantgarde',\n",
       "       'axé', 'baile', 'balkan', 'beats', 'bigroom', 'black', 'bluegrass',\n",
       "       'blues', 'bollywood', 'bossa', 'brazilian', 'breakbeat', 'breaks',\n",
       "       'broadway', 'cantautori', 'cantopop', 'canzone', 'caribbean',\n",
       "       'caucasian', 'celtic', 'chamber', 'chanson', 'children', 'chill',\n",
       "       'chinese', 'choral', 'christian', 'christmas', 'classical',\n",
       "       'classicmetal', 'club', 'colombian', 'comedy', 'conjazz',\n",
       "       'contemporary', 'country', 'cuban', 'dance', 'dancehall',\n",
       "       'dancepop', 'dark', 'death', 'deep', 'deutschrock', 'deutschspr',\n",
       "       'dirty', 'disco', 'dnb', 'documentary', 'downbeat', 'downtempo',\n",
       "       'drum', 'dub', 'dubstep', 'eastern', 'easy', 'electronic',\n",
       "       'electropop', 'emo', 'entehno', 'epicmetal', 'estrada', 'ethnic',\n",
       "       'eurofolk', 'european', 'experimental', 'extrememetal', 'fado',\n",
       "       'fairytail', 'film', 'fitness', 'flamenco', 'folk', 'folklore',\n",
       "       'folkmetal', 'folkrock', 'folktronica', 'forró', 'frankreich',\n",
       "       'französisch', 'french', 'funk', 'future', 'gangsta', 'garage',\n",
       "       'german', 'ghazal', 'gitarre', 'glitch', 'gospel', 'gothic',\n",
       "       'grime', 'grunge', 'gypsy', 'handsup', \"hard'n'heavy\", 'hardcore',\n",
       "       'hardstyle', 'hardtechno', 'hip', 'hip-hop', 'hiphop',\n",
       "       'historisch', 'holiday', 'hop', 'horror', 'house', 'hymn', 'idm',\n",
       "       'independent', 'indian', 'indie', 'indipop', 'industrial',\n",
       "       'inspirational', 'instrumental', 'international', 'irish', 'jam',\n",
       "       'japanese', 'jazz', 'jewish', 'jpop', 'jungle', 'k-pop',\n",
       "       'karadeniz', 'karaoke', 'kayokyoku', 'korean', 'laiko', 'latin',\n",
       "       'latino', 'leftfield', 'local', 'lounge', 'loungeelectronic',\n",
       "       'lovers', 'malaysian', 'mandopop', 'marschmusik', 'meditative',\n",
       "       'mediterranean', 'melodic', 'metal', 'metalcore', 'mexican',\n",
       "       'middle', 'minimal', 'miscellaneous', 'modern', 'mood', 'mpb',\n",
       "       'muslim', 'native', 'neoklassik', 'neue', 'new', 'newage',\n",
       "       'newwave', 'nu', 'nujazz', 'numetal', 'oceania', 'old', 'opera',\n",
       "       'orchestral', 'other', 'piano', 'podcasts', 'pop', 'popdance',\n",
       "       'popelectronic', 'popeurodance', 'poprussian', 'post',\n",
       "       'posthardcore', 'postrock', 'power', 'progmetal', 'progressive',\n",
       "       'psychedelic', 'punjabi', 'punk', 'quebecois', 'ragga', 'ram',\n",
       "       'rancheras', 'rap', 'rave', 'reggae', 'reggaeton', 'regional',\n",
       "       'relax', 'religious', 'retro', 'rhythm', 'rnb', 'rnr', 'rock',\n",
       "       'rockabilly', 'rockalternative', 'rockindie', 'rockother',\n",
       "       'romance', 'roots', 'ruspop', 'rusrap', 'rusrock', 'russian',\n",
       "       'salsa', 'samba', 'scenic', 'schlager', 'self', 'sertanejo',\n",
       "       'shanson', 'shoegazing', 'showtunes', 'singer', 'ska', 'skarock',\n",
       "       'slow', 'smooth', 'soft', 'soul', 'soulful', 'sound', 'soundtrack',\n",
       "       'southern', 'specialty', 'speech', 'spiritual', 'sport',\n",
       "       'stonerrock', 'surf', 'swing', 'synthpop', 'synthrock',\n",
       "       'sängerportrait', 'tango', 'tanzorchester', 'taraftar', 'tatar',\n",
       "       'tech', 'techno', 'teen', 'thrash', 'top', 'traditional',\n",
       "       'tradjazz', 'trance', 'tribal', 'trip', 'triphop', 'tropical',\n",
       "       'türk', 'türkçe', 'ukrrock', 'unknown', 'urban', 'uzbek',\n",
       "       'variété', 'vi', 'videogame', 'vocal', 'western', 'world',\n",
       "       'worldbeat', 'ïîï', 'электроника'], dtype=object)"
      ]
     },
     "execution_count": 117,
     "metadata": {},
     "output_type": "execute_result"
    }
   ],
   "source": [
    "df['genre'].sort_values().unique() # Просмотр уникальных названий жанров"
   ]
  },
  {
   "cell_type": "markdown",
   "metadata": {
    "deletable": false,
    "editable": false,
    "id": "qej-Qmuo_Zct",
    "tags": [
     "start_task"
    ]
   },
   "source": [
    "**Задание 16**\n",
    "\n",
    "Просмотрите список и найдите неявные дубликаты названия `hiphop`. Это могут быть названия с ошибками или альтернативные названия того же жанра.\n",
    "\n",
    "Вы увидите следующие неявные дубликаты:\n",
    "* *hip*,\n",
    "* *hop*,\n",
    "* *hip-hop*.\n",
    "\n",
    "Чтобы очистить от них таблицу используйте метод `replace()` с двумя аргументами: списком строк-дубликатов (включащий *hip*, *hop* и *hip-hop*) и строкой с правильным значением. Вам нужно исправить колонку `genre` в таблице `df`: заменить каждое значение из списка дубликатов на верное. Вместо `hip`, `hop` и `hip-hop` в таблице должно быть значение `hiphop`:"
   ]
  },
  {
   "cell_type": "code",
   "execution_count": 118,
   "metadata": {
    "deletable": false,
    "id": "ErNDkmns_Zct"
   },
   "outputs": [
    {
     "name": "stderr",
     "output_type": "stream",
     "text": [
      "/tmp/ipykernel_31/947528003.py:1: SettingWithCopyWarning: \n",
      "A value is trying to be set on a copy of a slice from a DataFrame.\n",
      "Try using .loc[row_indexer,col_indexer] = value instead\n",
      "\n",
      "See the caveats in the documentation: https://pandas.pydata.org/pandas-docs/stable/user_guide/indexing.html#returning-a-view-versus-a-copy\n",
      "  df['genre'] = df['genre'].replace('hip','hiphop')\n",
      "/tmp/ipykernel_31/947528003.py:2: SettingWithCopyWarning: \n",
      "A value is trying to be set on a copy of a slice from a DataFrame.\n",
      "Try using .loc[row_indexer,col_indexer] = value instead\n",
      "\n",
      "See the caveats in the documentation: https://pandas.pydata.org/pandas-docs/stable/user_guide/indexing.html#returning-a-view-versus-a-copy\n",
      "  df['genre'] = df['genre'].replace('hop','hiphop')\n",
      "/tmp/ipykernel_31/947528003.py:3: SettingWithCopyWarning: \n",
      "A value is trying to be set on a copy of a slice from a DataFrame.\n",
      "Try using .loc[row_indexer,col_indexer] = value instead\n",
      "\n",
      "See the caveats in the documentation: https://pandas.pydata.org/pandas-docs/stable/user_guide/indexing.html#returning-a-view-versus-a-copy\n",
      "  df['genre'] = df['genre'].replace('hip-hop','hiphop')\n"
     ]
    }
   ],
   "source": [
    "df['genre'] = df['genre'].replace('hip','hiphop')\n",
    "df['genre'] = df['genre'].replace('hop','hiphop')\n",
    "df['genre'] = df['genre'].replace('hip-hop','hiphop')"
   ]
  },
  {
   "cell_type": "markdown",
   "metadata": {
    "deletable": false,
    "editable": false,
    "id": "zQKF16_RG15m",
    "tags": [
     "start_task"
    ]
   },
   "source": [
    "**Задание 17**\n",
    "\n",
    "Проверьте, что заменили неправильные названия:\n",
    "\n",
    "*   hip\n",
    "*   hop\n",
    "*   hip-hop\n",
    "\n",
    "Выведите отсортированный список уникальных значений столбца `genre`:"
   ]
  },
  {
   "cell_type": "code",
   "execution_count": 119,
   "metadata": {
    "deletable": false,
    "id": "wvixALnFG15m"
   },
   "outputs": [
    {
     "data": {
      "text/plain": [
       "array(['acid', 'acoustic', 'action', 'adult', 'africa', 'afrikaans',\n",
       "       'alternative', 'alternativepunk', 'ambient', 'americana',\n",
       "       'animated', 'anime', 'arabesk', 'arabic', 'arena',\n",
       "       'argentinetango', 'art', 'audiobook', 'author', 'avantgarde',\n",
       "       'axé', 'baile', 'balkan', 'beats', 'bigroom', 'black', 'bluegrass',\n",
       "       'blues', 'bollywood', 'bossa', 'brazilian', 'breakbeat', 'breaks',\n",
       "       'broadway', 'cantautori', 'cantopop', 'canzone', 'caribbean',\n",
       "       'caucasian', 'celtic', 'chamber', 'chanson', 'children', 'chill',\n",
       "       'chinese', 'choral', 'christian', 'christmas', 'classical',\n",
       "       'classicmetal', 'club', 'colombian', 'comedy', 'conjazz',\n",
       "       'contemporary', 'country', 'cuban', 'dance', 'dancehall',\n",
       "       'dancepop', 'dark', 'death', 'deep', 'deutschrock', 'deutschspr',\n",
       "       'dirty', 'disco', 'dnb', 'documentary', 'downbeat', 'downtempo',\n",
       "       'drum', 'dub', 'dubstep', 'eastern', 'easy', 'electronic',\n",
       "       'electropop', 'emo', 'entehno', 'epicmetal', 'estrada', 'ethnic',\n",
       "       'eurofolk', 'european', 'experimental', 'extrememetal', 'fado',\n",
       "       'fairytail', 'film', 'fitness', 'flamenco', 'folk', 'folklore',\n",
       "       'folkmetal', 'folkrock', 'folktronica', 'forró', 'frankreich',\n",
       "       'französisch', 'french', 'funk', 'future', 'gangsta', 'garage',\n",
       "       'german', 'ghazal', 'gitarre', 'glitch', 'gospel', 'gothic',\n",
       "       'grime', 'grunge', 'gypsy', 'handsup', \"hard'n'heavy\", 'hardcore',\n",
       "       'hardstyle', 'hardtechno', 'hiphop', 'historisch', 'holiday',\n",
       "       'horror', 'house', 'hymn', 'idm', 'independent', 'indian', 'indie',\n",
       "       'indipop', 'industrial', 'inspirational', 'instrumental',\n",
       "       'international', 'irish', 'jam', 'japanese', 'jazz', 'jewish',\n",
       "       'jpop', 'jungle', 'k-pop', 'karadeniz', 'karaoke', 'kayokyoku',\n",
       "       'korean', 'laiko', 'latin', 'latino', 'leftfield', 'local',\n",
       "       'lounge', 'loungeelectronic', 'lovers', 'malaysian', 'mandopop',\n",
       "       'marschmusik', 'meditative', 'mediterranean', 'melodic', 'metal',\n",
       "       'metalcore', 'mexican', 'middle', 'minimal', 'miscellaneous',\n",
       "       'modern', 'mood', 'mpb', 'muslim', 'native', 'neoklassik', 'neue',\n",
       "       'new', 'newage', 'newwave', 'nu', 'nujazz', 'numetal', 'oceania',\n",
       "       'old', 'opera', 'orchestral', 'other', 'piano', 'podcasts', 'pop',\n",
       "       'popdance', 'popelectronic', 'popeurodance', 'poprussian', 'post',\n",
       "       'posthardcore', 'postrock', 'power', 'progmetal', 'progressive',\n",
       "       'psychedelic', 'punjabi', 'punk', 'quebecois', 'ragga', 'ram',\n",
       "       'rancheras', 'rap', 'rave', 'reggae', 'reggaeton', 'regional',\n",
       "       'relax', 'religious', 'retro', 'rhythm', 'rnb', 'rnr', 'rock',\n",
       "       'rockabilly', 'rockalternative', 'rockindie', 'rockother',\n",
       "       'romance', 'roots', 'ruspop', 'rusrap', 'rusrock', 'russian',\n",
       "       'salsa', 'samba', 'scenic', 'schlager', 'self', 'sertanejo',\n",
       "       'shanson', 'shoegazing', 'showtunes', 'singer', 'ska', 'skarock',\n",
       "       'slow', 'smooth', 'soft', 'soul', 'soulful', 'sound', 'soundtrack',\n",
       "       'southern', 'specialty', 'speech', 'spiritual', 'sport',\n",
       "       'stonerrock', 'surf', 'swing', 'synthpop', 'synthrock',\n",
       "       'sängerportrait', 'tango', 'tanzorchester', 'taraftar', 'tatar',\n",
       "       'tech', 'techno', 'teen', 'thrash', 'top', 'traditional',\n",
       "       'tradjazz', 'trance', 'tribal', 'trip', 'triphop', 'tropical',\n",
       "       'türk', 'türkçe', 'ukrrock', 'unknown', 'urban', 'uzbek',\n",
       "       'variété', 'vi', 'videogame', 'vocal', 'western', 'world',\n",
       "       'worldbeat', 'ïîï', 'электроника'], dtype=object)"
      ]
     },
     "execution_count": 119,
     "metadata": {},
     "output_type": "execute_result"
    }
   ],
   "source": [
    "df['genre'].sort_values().unique() # Проверка на неявные дубликаты"
   ]
  },
  {
   "cell_type": "markdown",
   "metadata": {
    "deletable": false,
    "editable": false,
    "id": "jz6a9-7HQUDd"
   },
   "source": [
    "**Выводы**\n",
    "\n",
    "Предобработка обнаружила три проблемы в данных:\n",
    "\n",
    "- нарушения в стиле заголовков,\n",
    "- пропущенные значения,\n",
    "- дубликаты — явные и неявные.\n",
    "\n",
    "Вы исправили заголовки, чтобы упростить работу с таблицей. Без дубликатов исследование станет более точным.\n",
    "\n",
    "Пропущенные значения вы заменили на `'unknown'`. Ещё предстоит увидеть, не повредят ли исследованию пропуски в колонке `genre`.\n",
    "\n",
    "Теперь можно перейти к проверке гипотез. "
   ]
  },
  {
   "cell_type": "markdown",
   "metadata": {
    "deletable": false,
    "editable": false,
    "id": "WttZHXH0SqKk"
   },
   "source": [
    "## Проверка гипотез"
   ]
  },
  {
   "cell_type": "markdown",
   "metadata": {
    "deletable": false,
    "editable": false,
    "id": "Im936VVi_Zcu"
   },
   "source": [
    "### Сравнение поведения пользователей двух столиц"
   ]
  },
  {
   "cell_type": "markdown",
   "metadata": {
    "deletable": false,
    "editable": false,
    "id": "nwt_MuaL_Zcu"
   },
   "source": [
    "Первая гипотеза утверждает, что пользователи по-разному слушают музыку в Москве и Санкт-Петербурге. Проверьте это предположение по данным о трёх днях недели — понедельнике, среде и пятнице. Для этого:\n",
    "\n",
    "* Разделите пользователей Москвы и Санкт-Петербурга\n",
    "* Сравните, сколько треков послушала каждая группа пользователей в понедельник, среду и пятницу.\n"
   ]
  },
  {
   "cell_type": "markdown",
   "metadata": {
    "deletable": false,
    "editable": false,
    "id": "8Dw_YMmT_Zcu",
    "tags": [
     "start_task"
    ]
   },
   "source": [
    "**Задание 18**\n",
    "\n",
    "Для тренировки сначала выполните каждый из расчётов по отдельности. \n",
    "\n",
    "Оцените активность пользователей в каждом городе. Сгруппируйте данные по городу и посчитайте прослушивания в каждой группе.\n",
    "\n"
   ]
  },
  {
   "cell_type": "code",
   "execution_count": 120,
   "metadata": {
    "deletable": false,
    "id": "0_Qs96oh_Zcu"
   },
   "outputs": [
    {
     "data": {
      "text/plain": [
       "city\n",
       "Moscow              42741\n",
       "Saint-Petersburg    18512\n",
       "Name: genre, dtype: int64"
      ]
     },
     "execution_count": 120,
     "metadata": {},
     "output_type": "execute_result"
    }
   ],
   "source": [
    "df.groupby('city')['genre'].count() # Подсчёт прослушиваний в каждом городе"
   ]
  },
  {
   "cell_type": "markdown",
   "metadata": {
    "deletable": false,
    "editable": false,
    "id": "dzli3w8o_Zcu",
    "tags": [
     "start_task"
    ]
   },
   "source": [
    "В Москве прослушиваний больше, чем в Петербурге. Из этого не следует, что московские пользователи чаще слушают музыку. Просто самих пользователей в Москве больше.\n",
    "\n",
    "**Задание 19**\n",
    "\n",
    "Теперь сгруппируйте данные по дню недели и подсчитайте прослушивания в понедельник, среду и пятницу. Учтите, что в данных есть информация только о прослушиваниях только за эти дни.\n"
   ]
  },
  {
   "cell_type": "code",
   "execution_count": 121,
   "metadata": {
    "deletable": false,
    "id": "uZMKjiJz_Zcu"
   },
   "outputs": [
    {
     "data": {
      "text/plain": [
       "day\n",
       "Friday       21840\n",
       "Monday       21354\n",
       "Wednesday    18059\n",
       "Name: genre, dtype: int64"
      ]
     },
     "execution_count": 121,
     "metadata": {},
     "output_type": "execute_result"
    }
   ],
   "source": [
    "df.groupby('day')['genre'].count() # Подсчёт прослушиваний в каждый из трёх дней"
   ]
  },
  {
   "cell_type": "markdown",
   "metadata": {
    "deletable": false,
    "editable": false,
    "id": "cC2tNrlL_Zcu"
   },
   "source": [
    "В среднем пользователи из двух городов менее активны по средам. Но картина может измениться, если рассмотреть каждый город в отдельности."
   ]
  },
  {
   "cell_type": "markdown",
   "metadata": {
    "deletable": false,
    "editable": false,
    "id": "POzs8bGa_Zcu",
    "tags": [
     "start_task"
    ]
   },
   "source": [
    "**Задание 20**\n",
    "\n",
    "\n",
    "Вы видели, как работает группировка по городу и по дням недели. Теперь напишите функцию, которая объединит два эти расчёта.\n",
    "\n",
    "Создайте функцию `number_tracks()`, которая посчитает прослушивания для заданного дня и города. Ей понадобятся два параметра:\n",
    "* день недели,\n",
    "* название города.\n",
    "\n",
    "В функции сохраните в переменную строки исходной таблицы, у которых значение:\n",
    "  * в колонке `day` равно параметру `day`,\n",
    "  * в колонке `city` равно параметру `city`.\n",
    "\n",
    "Для этого примените последовательную фильтрацию с логической индексацией (или сложные логические выражения в одну строку, если вы уже знакомы с ними).\n",
    "\n",
    "Затем посчитайте значения в столбце `user_id` получившейся таблицы. Результат сохраните в новую переменную. Верните эту переменную из функции."
   ]
  },
  {
   "cell_type": "code",
   "execution_count": 122,
   "metadata": {
    "deletable": false,
    "id": "Nz3GdQB1_Zcu"
   },
   "outputs": [],
   "source": [
    "def number_tracks(day,city): # <создание функции number_tracks()>\n",
    "    \n",
    "    track_list = df[(df['day'] == day) & (df['city'] == city)]\n",
    "    track_list_count = track_list['user_id'].count()\n",
    "    return track_list_count\n",
    "# Функция для подсчёта прослушиваний для конкретного города и дня.\n",
    "# С помощью последовательной фильтрации с логической индексацией она \n",
    "# сначала получит из исходной таблицы строки с нужным днём,\n",
    "# затем из результата отфильтрует строки с нужным городом,\n",
    "# методом count() посчитает количество значений в колонке user_id. \n",
    "# Это количество функция вернёт в качестве результата"
   ]
  },
  {
   "cell_type": "markdown",
   "metadata": {
    "deletable": false,
    "editable": false,
    "id": "ytf7xFrFJQ2r",
    "tags": [
     "start_task"
    ]
   },
   "source": [
    "**Задание 21**\n",
    "\n",
    "Вызовите `number_tracks()` шесть раз, меняя значение параметров — так, чтобы получить данные для каждого города в каждый из трёх дней."
   ]
  },
  {
   "cell_type": "code",
   "execution_count": 123,
   "metadata": {
    "deletable": false,
    "id": "rJcRATNQ_Zcu"
   },
   "outputs": [
    {
     "data": {
      "text/plain": [
       "15740"
      ]
     },
     "execution_count": 123,
     "metadata": {},
     "output_type": "execute_result"
    }
   ],
   "source": [
    "number_tracks('Monday', 'Moscow')\n",
    "# количество прослушиваний в Москве по понедельникам"
   ]
  },
  {
   "cell_type": "code",
   "execution_count": 124,
   "metadata": {
    "deletable": false,
    "id": "hq_ncZ5T_Zcu"
   },
   "outputs": [
    {
     "data": {
      "text/plain": [
       "5614"
      ]
     },
     "execution_count": 124,
     "metadata": {},
     "output_type": "execute_result"
    }
   ],
   "source": [
    "number_tracks('Monday', 'Saint-Petersburg')\n",
    "# количество прослушиваний в Санкт-Петербурге по понедельникам"
   ]
  },
  {
   "cell_type": "code",
   "execution_count": 125,
   "metadata": {
    "deletable": false,
    "id": "_NTy2VPU_Zcu"
   },
   "outputs": [
    {
     "data": {
      "text/plain": [
       "11056"
      ]
     },
     "execution_count": 125,
     "metadata": {},
     "output_type": "execute_result"
    }
   ],
   "source": [
    "number_tracks('Wednesday', 'Moscow')\n",
    "# количество прослушиваний в Москве по средам"
   ]
  },
  {
   "cell_type": "code",
   "execution_count": 126,
   "metadata": {
    "deletable": false,
    "id": "j2y3TAwo_Zcu"
   },
   "outputs": [
    {
     "data": {
      "text/plain": [
       "7003"
      ]
     },
     "execution_count": 126,
     "metadata": {},
     "output_type": "execute_result"
    }
   ],
   "source": [
    "number_tracks('Wednesday', 'Saint-Petersburg')\n",
    "# количество прослушиваний в Санкт-Петербурге по средам"
   ]
  },
  {
   "cell_type": "code",
   "execution_count": 127,
   "metadata": {
    "deletable": false,
    "id": "vYDw5u_K_Zcu"
   },
   "outputs": [
    {
     "data": {
      "text/plain": [
       "15945"
      ]
     },
     "execution_count": 127,
     "metadata": {},
     "output_type": "execute_result"
    }
   ],
   "source": [
    "number_tracks('Friday', 'Moscow')\n",
    "# количество прослушиваний в Москве по пятницам"
   ]
  },
  {
   "cell_type": "code",
   "execution_count": 128,
   "metadata": {
    "deletable": false,
    "id": "8_yzFtW3_Zcu"
   },
   "outputs": [
    {
     "data": {
      "text/plain": [
       "5895"
      ]
     },
     "execution_count": 128,
     "metadata": {},
     "output_type": "execute_result"
    }
   ],
   "source": [
    "number_tracks('Friday', 'Saint-Petersburg')\n",
    "# количество прослушиваний в Санкт-Петербурге по пятницам"
   ]
  },
  {
   "cell_type": "markdown",
   "metadata": {
    "deletable": false,
    "editable": false,
    "id": "7QXffbO-_Zcu",
    "tags": [
     "start_task"
    ]
   },
   "source": [
    "**Задание 22**\n",
    "\n",
    "Создайте c помощью конструктора `pd.DataFrame` таблицу, где\n",
    "* названия колонок — `['city', 'monday', 'wednesday', 'friday']`;\n",
    "* данные — результаты, которые вы получили с помощью `number_tracks`."
   ]
  },
  {
   "cell_type": "code",
   "execution_count": 129,
   "metadata": {
    "deletable": false,
    "id": "APAcLpOr_Zcu"
   },
   "outputs": [
    {
     "data": {
      "text/html": [
       "<div>\n",
       "<style scoped>\n",
       "    .dataframe tbody tr th:only-of-type {\n",
       "        vertical-align: middle;\n",
       "    }\n",
       "\n",
       "    .dataframe tbody tr th {\n",
       "        vertical-align: top;\n",
       "    }\n",
       "\n",
       "    .dataframe thead th {\n",
       "        text-align: right;\n",
       "    }\n",
       "</style>\n",
       "<table border=\"1\" class=\"dataframe\">\n",
       "  <thead>\n",
       "    <tr style=\"text-align: right;\">\n",
       "      <th></th>\n",
       "      <th>city</th>\n",
       "      <th>monday</th>\n",
       "      <th>wednesday</th>\n",
       "      <th>friday</th>\n",
       "    </tr>\n",
       "  </thead>\n",
       "  <tbody>\n",
       "    <tr>\n",
       "      <th>0</th>\n",
       "      <td>Moscow</td>\n",
       "      <td>15347</td>\n",
       "      <td>10865</td>\n",
       "      <td>15680</td>\n",
       "    </tr>\n",
       "    <tr>\n",
       "      <th>1</th>\n",
       "      <td>Saint-Petersburg</td>\n",
       "      <td>5519</td>\n",
       "      <td>6913</td>\n",
       "      <td>5802</td>\n",
       "    </tr>\n",
       "  </tbody>\n",
       "</table>\n",
       "</div>"
      ],
      "text/plain": [
       "               city  monday  wednesday  friday\n",
       "0            Moscow   15347      10865   15680\n",
       "1  Saint-Petersburg    5519       6913    5802"
      ]
     },
     "execution_count": 129,
     "metadata": {},
     "output_type": "execute_result"
    }
   ],
   "source": [
    "data = [['Moscow', 15347, 10865, 15680],\n",
    "       ['Saint-Petersburg', 5519, 6913, 5802]]\n",
    "\n",
    "columns = ['city', 'monday', 'wednesday', 'friday']\n",
    "\n",
    "info = pd.DataFrame(data=data, columns=columns)\n",
    "info"
   ]
  },
  {
   "cell_type": "markdown",
   "metadata": {
    "deletable": false,
    "editable": false,
    "id": "-EgPIHYu_Zcu"
   },
   "source": [
    "**Выводы**\n",
    "\n",
    "Данные показывают разницу поведения пользователей:\n",
    "\n",
    "- В Москве пик прослушиваний приходится на понедельник и пятницу, а в среду заметен спад.\n",
    "- В Петербурге, наоборот, больше слушают музыку по средам. Активность в понедельник и пятницу здесь почти в равной мере уступает среде.\n",
    "\n",
    "Значит, данные говорят в пользу первой гипотезы."
   ]
  },
  {
   "cell_type": "markdown",
   "metadata": {
    "deletable": false,
    "editable": false,
    "id": "atZAxtq4_Zcu"
   },
   "source": [
    "### Музыка в начале и в конце недели"
   ]
  },
  {
   "cell_type": "markdown",
   "metadata": {
    "deletable": false,
    "editable": false,
    "id": "eXrQqXFH_Zcu"
   },
   "source": [
    "Согласно второй гипотезе, утром в понедельник в Москве преобладают одни жанры, а в Петербурге — другие. Так же и вечером пятницы преобладают разные жанры — в зависимости от города."
   ]
  },
  {
   "cell_type": "markdown",
   "metadata": {
    "deletable": false,
    "editable": false,
    "id": "S8UcW6Hw_Zcu",
    "tags": [
     "start_task"
    ]
   },
   "source": [
    "**Задание 23**\n",
    "\n",
    "Сохраните таблицы с данными в две переменные:\n",
    "* по Москве — в `moscow_general`;\n",
    "* по Санкт-Петербургу — в `spb_general`."
   ]
  },
  {
   "cell_type": "code",
   "execution_count": 130,
   "metadata": {
    "deletable": false,
    "id": "qeaFfM_P_Zcu"
   },
   "outputs": [],
   "source": [
    "moscow_general = df[df['city'] == 'Moscow']\n",
    " #получение таблицы moscow_general из тех строк таблицы df, \n",
    "# для которых значение в столбце 'city' равно 'Moscow'\n"
   ]
  },
  {
   "cell_type": "code",
   "execution_count": 131,
   "metadata": {
    "deletable": false,
    "id": "ORaVRKto_Zcu"
   },
   "outputs": [],
   "source": [
    "spb_general = df[df['city'] == 'Saint-Petersburg']# получение таблицы spb_general из тех строк таблицы df,\n",
    "# для которых значение в столбце 'city' равно 'Saint-Petersburg'\n"
   ]
  },
  {
   "cell_type": "markdown",
   "metadata": {
    "deletable": false,
    "id": "MEJV-CX2_Zcu",
    "tags": [
     "start_task"
    ]
   },
   "source": [
    "**Задание 24**\n",
    "\n",
    "Создайте функцию `genre_weekday()` с четырьмя параметрами:\n",
    "* таблица (датафрейм) с данными,\n",
    "* день недели,\n",
    "* начальная временная метка в формате 'hh:mm', \n",
    "* последняя временная метка в формате 'hh:mm'.\n",
    "\n",
    "Функция должна вернуть информацию о топ-10 жанров тех треков, которые прослушивали в указанный день, в промежутке между двумя отметками времени."
   ]
  },
  {
   "cell_type": "code",
   "execution_count": 132,
   "metadata": {
    "deletable": false,
    "id": "laJT9BYl_Zcu"
   },
   "outputs": [],
   "source": [
    "# Объявление функции genre_weekday() с параметрами df, day, time1, time2,\n",
    "# которая возвращает информацию о самых популярных жанрах в указанный день в\n",
    "# заданное время:\n",
    "# 1) в переменную genre_df сохраняются те строки переданного датафрейма df, для\n",
    "#    которых одновременно:\n",
    "#    - значение в столбце day равно значению аргумента day\n",
    "#    - значение в столбце time больше значения аргумента time1\n",
    "#    - значение в столбце time меньше значения аргумента time2\n",
    "#    Используйте последовательную фильтрацию с помощью логической индексации.\n",
    "# 2) сгруппировать датафрейм genre_df по столбцу genre, взять один из его\n",
    "#    столбцов и посчитать методом count() количество записей для каждого из\n",
    "#    присутствующих жанров, получившийся Series записать в переменную\n",
    "#    genre_df_grouped\n",
    "# 3) отсортировать genre_df_grouped по убыванию встречаемости и сохранить\n",
    "#    в переменную genre_df_sorted\n",
    "# 4) вернуть Series из 10 первых значений genre_df_sorted, это будут топ-10\n",
    "#    популярных жанров (в указанный день, в заданное время)\n",
    "\n",
    "def genre_weekday(df, day, time1, time2):\n",
    "    # последовательная фильтрация\n",
    "    # оставляем в genre_df только те строки df, у которых день равен day\n",
    "    genre_df = df[df['day'] == day]\n",
    "    # оставляем в genre_df только те строки genre_df, у которых время меньше time2\n",
    "    genre_df = genre_df[genre_df['time'] < time2]\n",
    "    # оставляем в genre_df только те строки genre_df, у которых время больше time1\n",
    "    genre_df = genre_df[genre_df['time'] > time1] # ваш код здесь\n",
    "    # сгруппируем отфильтрованный датафрейм по столбцу с названиями жанров, возьмём столбец genre и посчитаем кол-во строк для каждого жанра методом count()\n",
    "    genre_df_grouped = genre_df.groupby('genre')['genre'].count() # ваш код здесь\n",
    "    # отсортируем результат по убыванию (чтобы в начале Series оказались самые популярные жанры)\n",
    "    genre_df_sorted = genre_df_grouped.sort_values(ascending = False) # ваш код здесь\n",
    "    # вернём Series с 10 самыми популярными жанрами в указанный отрезок времени заданного дня\n",
    "    return genre_df_sorted[:10]\n"
   ]
  },
  {
   "cell_type": "markdown",
   "metadata": {
    "deletable": false,
    "editable": false,
    "id": "la2s2_PF_Zcu",
    "tags": [
     "start_task"
    ]
   },
   "source": [
    "**Задание 25**\n",
    "\n",
    "\n",
    "Cравните результаты функции `genre_weekday()` для Москвы и Санкт-Петербурга в понедельник утром (с 7:00 до 11:00) и в пятницу вечером (с 17:00 до 23:00):"
   ]
  },
  {
   "cell_type": "code",
   "execution_count": 133,
   "metadata": {
    "deletable": false,
    "id": "yz7itPUQ_Zcu"
   },
   "outputs": [
    {
     "data": {
      "text/plain": [
       "genre\n",
       "pop            781\n",
       "dance          549\n",
       "electronic     480\n",
       "rock           474\n",
       "hiphop         286\n",
       "ruspop         186\n",
       "world          181\n",
       "rusrap         175\n",
       "alternative    164\n",
       "unknown        161\n",
       "Name: genre, dtype: int64"
      ]
     },
     "execution_count": 133,
     "metadata": {},
     "output_type": "execute_result"
    }
   ],
   "source": [
    "genre_weekday(moscow_general, 'Monday', '07:00', '11:00') # вызов функции для утра понедельника в Москве (вместо df — таблица moscow_general)\n",
    "# объекты, хранящие время, являются строками и сравниваются как строки\n",
    "# пример вызова: genre_weekday(moscow_general, 'Monday', '07:00', '11:00')"
   ]
  },
  {
   "cell_type": "code",
   "execution_count": 134,
   "metadata": {
    "deletable": false,
    "id": "kwUcHPdy_Zcu"
   },
   "outputs": [
    {
     "data": {
      "text/plain": [
       "genre\n",
       "pop            218\n",
       "dance          182\n",
       "rock           162\n",
       "electronic     147\n",
       "hiphop          80\n",
       "ruspop          64\n",
       "alternative     58\n",
       "rusrap          55\n",
       "jazz            44\n",
       "classical       40\n",
       "Name: genre, dtype: int64"
      ]
     },
     "execution_count": 134,
     "metadata": {},
     "output_type": "execute_result"
    }
   ],
   "source": [
    "genre_weekday(spb_general, 'Monday', '07:00', '11:00')# вызов функции для утра понедельника в Петербурге (вместо df — таблица spb_general)"
   ]
  },
  {
   "cell_type": "code",
   "execution_count": 135,
   "metadata": {
    "deletable": false,
    "id": "EzXVRE1o_Zcu"
   },
   "outputs": [
    {
     "data": {
      "text/plain": [
       "genre\n",
       "pop            713\n",
       "rock           517\n",
       "dance          495\n",
       "electronic     482\n",
       "hiphop         273\n",
       "world          208\n",
       "ruspop         170\n",
       "alternative    163\n",
       "classical      163\n",
       "rusrap         142\n",
       "Name: genre, dtype: int64"
      ]
     },
     "execution_count": 135,
     "metadata": {},
     "output_type": "execute_result"
    }
   ],
   "source": [
    "genre_weekday(moscow_general, 'Friday', '17:00', '23:00')# вызов функции для вечера пятницы в Москве"
   ]
  },
  {
   "cell_type": "code",
   "execution_count": 136,
   "metadata": {
    "deletable": false,
    "id": "JZaEKu5v_Zcu"
   },
   "outputs": [
    {
     "data": {
      "text/plain": [
       "genre\n",
       "pop            256\n",
       "electronic     216\n",
       "rock           216\n",
       "dance          210\n",
       "hiphop          97\n",
       "alternative     63\n",
       "jazz            61\n",
       "classical       60\n",
       "rusrap          59\n",
       "world           54\n",
       "Name: genre, dtype: int64"
      ]
     },
     "execution_count": 136,
     "metadata": {},
     "output_type": "execute_result"
    }
   ],
   "source": [
    "genre_weekday(spb_general, 'Friday', '17:00', '23:00')# вызов функции для вечера пятницы в Петербурге"
   ]
  },
  {
   "cell_type": "markdown",
   "metadata": {
    "deletable": false,
    "editable": false,
    "id": "wrCe4MNX_Zcu"
   },
   "source": [
    "**Выводы**\n",
    "\n",
    "Если сравнить топ-10 жанров в понедельник утром, можно сделать такие выводы:\n",
    "\n",
    "1. В Москве и Петербурге слушают похожую музыку. Единственное отличие — в московский рейтинг вошёл жанр “world”, а в петербургский — джаз и классика.\n",
    "\n",
    "2. В Москве пропущенных значений оказалось так много, что значение `'unknown'` заняло десятое место среди самых популярных жанров. Значит, пропущенные значения занимают существенную долю в данных и угрожают достоверности исследования.\n",
    "\n",
    "Вечер пятницы не меняет эту картину. Некоторые жанры поднимаются немного выше, другие спускаются, но в целом топ-10 остаётся тем же самым.\n",
    "\n",
    "Таким образом, вторая гипотеза подтвердилась лишь частично:\n",
    "* Пользователи слушают похожую музыку в начале недели и в конце.\n",
    "* Разница между Москвой и Петербургом не слишком выражена. В Москве чаще слушают русскую популярную музыку, в Петербурге — джаз.\n",
    "\n",
    "Однако пропуски в данных ставят под сомнение этот результат. В Москве их так много, что рейтинг топ-10 мог бы выглядеть иначе, если бы не утерянные  данные о жанрах."
   ]
  },
  {
   "cell_type": "markdown",
   "metadata": {
    "deletable": false,
    "editable": false,
    "id": "JolODAqr_Zcu"
   },
   "source": [
    "### Жанровые предпочтения в Москве и Петербурге\n",
    "\n",
    "Гипотеза: Петербург — столица рэпа, музыку этого жанра там слушают чаще, чем в Москве.  А Москва — город контрастов, в котором, тем не менее, преобладает поп-музыка."
   ]
  },
  {
   "cell_type": "markdown",
   "metadata": {
    "deletable": false,
    "editable": false,
    "id": "DlegSvaT_Zcu",
    "tags": [
     "start_task"
    ]
   },
   "source": [
    "**Задание 26**\n",
    "\n",
    "Сгруппируйте таблицу `moscow_general` по жанру и посчитайте прослушивания треков каждого жанра методом `count()`. Затем отсортируйте результат в порядке убывания и сохраните его в таблице `moscow_genres`."
   ]
  },
  {
   "cell_type": "code",
   "execution_count": 144,
   "metadata": {
    "deletable": false,
    "id": "r19lIPke_Zcu"
   },
   "outputs": [],
   "source": [
    "moscow_genres = moscow_general.groupby('genre')['genre'].count().sort_values(ascending = False)"
   ]
  },
  {
   "cell_type": "markdown",
   "metadata": {
    "deletable": false,
    "editable": false,
    "id": "6kMuomxTiIr8",
    "tags": [
     "start_task"
    ]
   },
   "source": [
    "**Задание 27**\n",
    "\n",
    "Выведите на экран первые десять строк `moscow_genres`:"
   ]
  },
  {
   "cell_type": "code",
   "execution_count": 145,
   "metadata": {
    "deletable": false,
    "id": "WhCSooF8_Zcv"
   },
   "outputs": [
    {
     "data": {
      "text/plain": [
       "genre\n",
       "pop            5892\n",
       "dance          4435\n",
       "rock           3965\n",
       "electronic     3786\n",
       "hiphop         2096\n",
       "classical      1616\n",
       "world          1432\n",
       "alternative    1379\n",
       "ruspop         1372\n",
       "rusrap         1161\n",
       "Name: genre, dtype: int64"
      ]
     },
     "execution_count": 145,
     "metadata": {},
     "output_type": "execute_result"
    }
   ],
   "source": [
    "moscow_genres.head(10)# просмотр первых 10 строк moscow_genres"
   ]
  },
  {
   "cell_type": "markdown",
   "metadata": {
    "deletable": false,
    "editable": false,
    "id": "cnPG2vnN_Zcv",
    "tags": [
     "start_task"
    ]
   },
   "source": [
    "**Задание 28**\n",
    "\n",
    "\n",
    "Теперь повторите то же и для Петербурга.\n",
    "\n",
    "Сгруппируйте таблицу `spb_general` по жанру. Посчитайте прослушивания треков каждого жанра. Результат отсортируйте в порядке убывания и сохраните в таблице `spb_genres`:\n"
   ]
  },
  {
   "cell_type": "code",
   "execution_count": 139,
   "metadata": {
    "deletable": false,
    "id": "gluLIpE7_Zcv"
   },
   "outputs": [],
   "source": [
    "spb_genres = spb_general.groupby('genre')['genre'].count().sort_values(ascending=False)# одной строкой: группировка таблицы spb_general по столбцу 'genre', \n",
    "# подсчёт числа значений 'genre' в этой группировке методом count(), \n",
    "# сортировка получившегося Series в порядке убывания и сохранение в spb_genres"
   ]
  },
  {
   "cell_type": "markdown",
   "metadata": {
    "deletable": false,
    "editable": false,
    "id": "5Doha_ODgyQ8",
    "tags": [
     "start_task"
    ]
   },
   "source": [
    "**Задание 29**\n",
    "\n",
    "Выведите на экран первые десять строк `spb_genres`:"
   ]
  },
  {
   "cell_type": "code",
   "execution_count": 146,
   "metadata": {
    "deletable": false,
    "id": "uaGJHjVU_Zcv"
   },
   "outputs": [
    {
     "data": {
      "text/plain": [
       "genre\n",
       "pop            2431\n",
       "dance          1932\n",
       "rock           1879\n",
       "electronic     1736\n",
       "hiphop          960\n",
       "alternative     649\n",
       "classical       646\n",
       "rusrap          564\n",
       "ruspop          538\n",
       "world           515\n",
       "Name: genre, dtype: int64"
      ]
     },
     "execution_count": 146,
     "metadata": {},
     "output_type": "execute_result"
    }
   ],
   "source": [
    "spb_genres.head(10)# просмотр первых 10 строк spb_genres"
   ]
  },
  {
   "cell_type": "markdown",
   "metadata": {
    "deletable": false,
    "editable": false,
    "id": "RY51YJYu_Zcv"
   },
   "source": [
    "**Выводы**"
   ]
  },
  {
   "cell_type": "markdown",
   "metadata": {
    "deletable": false,
    "editable": false,
    "id": "nVhnJEm__Zcv"
   },
   "source": [
    "Гипотеза частично подтвердилась:\n",
    "* Поп-музыка — самый популярный жанр в Москве, как и предполагала гипотеза. Более того, в топ-10 жанров встречается близкий жанр — русская популярная музыка.\n",
    "* Вопреки ожиданиям, рэп одинаково популярен в Москве и Петербурге. \n"
   ]
  },
  {
   "cell_type": "markdown",
   "metadata": {
    "deletable": false,
    "editable": false,
    "id": "ykKQ0N65_Zcv"
   },
   "source": [
    "## Итоги исследования"
   ]
  },
  {
   "cell_type": "markdown",
   "metadata": {
    "deletable": false,
    "editable": false,
    "id": "tjUwbHb3_Zcv"
   },
   "source": [
    "Вы проверили три гипотезы и установили:\n",
    "\n",
    "1. День недели по-разному влияет на активность пользователей в Москве и Петербурге. \n",
    "\n",
    "Первая гипотеза полностью подтвердилась.\n",
    "\n",
    "2. Музыкальные предпочтения не сильно меняются в течение недели — будь то Москва или Петербург. Небольшие различия заметны в начале недели, по понедельникам:\n",
    "* в Москве слушают музыку жанра “world”,\n",
    "* в Петербурге — джаз и классику.\n",
    "\n",
    "Таким образом, вторая гипотеза подтвердилась лишь отчасти. Этот результат мог оказаться иным, если бы не пропуски в данных.\n",
    "\n",
    "3. Во вкусах пользователей Москвы и Петербурга больше общего чем различий. Вопреки ожиданиям, предпочтения жанров в Петербурге напоминают московские.\n",
    "\n",
    "Третья гипотеза не подтвердилась. Если различия в предпочтениях и существуют, на основной массе пользователей они незаметны.\n",
    "\n",
    "**На практике исследования содержат проверки статистических гипотез.**\n",
    "Из данных одного сервиса не всегда можно сделать вывод о всех жителях города.\n",
    "Проверки статистических гипотез покажут, насколько они достоверны, исходя из имеющихся данных. \n",
    "С методами проверок гипотез вы ещё познакомитесь в следующих темах."
   ]
  }
 ],
 "metadata": {
  "ExecuteTimeLog": [
   {
    "duration": 392,
    "start_time": "2023-06-24T20:16:48.093Z"
   },
   {
    "duration": 67,
    "start_time": "2023-06-24T20:17:33.281Z"
   },
   {
    "duration": 45,
    "start_time": "2023-06-24T20:17:46.933Z"
   },
   {
    "duration": 81,
    "start_time": "2023-06-24T20:18:12.731Z"
   },
   {
    "duration": 107,
    "start_time": "2023-06-24T20:18:35.439Z"
   },
   {
    "duration": 151,
    "start_time": "2023-06-24T20:19:03.929Z"
   },
   {
    "duration": 161,
    "start_time": "2023-06-24T20:19:06.715Z"
   },
   {
    "duration": 16,
    "start_time": "2023-06-24T20:20:10.231Z"
   },
   {
    "duration": 34,
    "start_time": "2023-06-24T20:21:00.089Z"
   },
   {
    "duration": 6,
    "start_time": "2023-06-25T07:56:46.326Z"
   },
   {
    "duration": 8,
    "start_time": "2023-06-25T07:59:00.569Z"
   },
   {
    "duration": 425,
    "start_time": "2023-06-25T07:59:07.494Z"
   },
   {
    "duration": 242,
    "start_time": "2023-06-25T07:59:09.627Z"
   },
   {
    "duration": 18,
    "start_time": "2023-06-25T07:59:11.750Z"
   },
   {
    "duration": 32,
    "start_time": "2023-06-25T07:59:15.243Z"
   },
   {
    "duration": 53,
    "start_time": "2023-06-25T07:59:18.086Z"
   },
   {
    "duration": 8,
    "start_time": "2023-06-25T07:59:50.862Z"
   },
   {
    "duration": 9,
    "start_time": "2023-06-25T07:59:59.183Z"
   },
   {
    "duration": 33,
    "start_time": "2023-06-25T08:00:21.384Z"
   },
   {
    "duration": 11,
    "start_time": "2023-06-25T08:02:21.415Z"
   },
   {
    "duration": 11,
    "start_time": "2023-06-25T08:02:49.694Z"
   },
   {
    "duration": 13,
    "start_time": "2023-06-25T08:02:54.914Z"
   },
   {
    "duration": 22,
    "start_time": "2023-06-25T08:03:02.155Z"
   },
   {
    "duration": 5,
    "start_time": "2023-06-25T08:04:03.680Z"
   },
   {
    "duration": 269,
    "start_time": "2023-06-25T08:05:07.955Z"
   },
   {
    "duration": 233,
    "start_time": "2023-06-25T08:05:23.071Z"
   },
   {
    "duration": 179,
    "start_time": "2023-06-25T08:05:27.289Z"
   },
   {
    "duration": 12,
    "start_time": "2023-06-25T08:05:52.963Z"
   },
   {
    "duration": 4,
    "start_time": "2023-06-25T08:09:52.528Z"
   },
   {
    "duration": 15,
    "start_time": "2023-06-25T08:10:06.009Z"
   },
   {
    "duration": 3,
    "start_time": "2023-06-25T08:10:37.809Z"
   },
   {
    "duration": 182,
    "start_time": "2023-06-25T08:10:39.197Z"
   },
   {
    "duration": 12,
    "start_time": "2023-06-25T08:10:41.194Z"
   },
   {
    "duration": 27,
    "start_time": "2023-06-25T08:10:49.040Z"
   },
   {
    "duration": 8,
    "start_time": "2023-06-25T08:10:53.426Z"
   },
   {
    "duration": 11,
    "start_time": "2023-06-25T08:11:02.604Z"
   },
   {
    "duration": 3,
    "start_time": "2023-06-25T08:11:06.397Z"
   },
   {
    "duration": 162,
    "start_time": "2023-06-25T08:11:07.404Z"
   },
   {
    "duration": 11,
    "start_time": "2023-06-25T08:11:09.592Z"
   },
   {
    "duration": 27,
    "start_time": "2023-06-25T08:11:12.629Z"
   },
   {
    "duration": 5,
    "start_time": "2023-06-25T08:11:20.902Z"
   },
   {
    "duration": 13,
    "start_time": "2023-06-25T08:11:27.438Z"
   },
   {
    "duration": 4,
    "start_time": "2023-06-25T08:12:52.235Z"
   },
   {
    "duration": 29,
    "start_time": "2023-06-25T08:13:25.757Z"
   },
   {
    "duration": 22,
    "start_time": "2023-06-25T08:16:07.782Z"
   },
   {
    "duration": 3,
    "start_time": "2023-06-25T08:16:10.682Z"
   },
   {
    "duration": 8,
    "start_time": "2023-06-25T08:16:20.446Z"
   },
   {
    "duration": 8,
    "start_time": "2023-06-25T08:16:28.029Z"
   },
   {
    "duration": 7,
    "start_time": "2023-06-25T08:16:55.589Z"
   },
   {
    "duration": 7,
    "start_time": "2023-06-25T08:17:31.813Z"
   },
   {
    "duration": 8,
    "start_time": "2023-06-25T08:18:18.426Z"
   },
   {
    "duration": 7,
    "start_time": "2023-06-25T08:18:32.912Z"
   },
   {
    "duration": 7,
    "start_time": "2023-06-25T08:18:42.222Z"
   },
   {
    "duration": 7,
    "start_time": "2023-06-25T08:19:56.390Z"
   },
   {
    "duration": 7,
    "start_time": "2023-06-25T08:20:18.949Z"
   },
   {
    "duration": 4,
    "start_time": "2023-06-25T08:20:25.310Z"
   },
   {
    "duration": 7,
    "start_time": "2023-06-25T08:20:29.808Z"
   },
   {
    "duration": 8,
    "start_time": "2023-06-25T08:20:56.759Z"
   },
   {
    "duration": 8,
    "start_time": "2023-06-25T08:21:22.065Z"
   },
   {
    "duration": 7,
    "start_time": "2023-06-25T08:21:46.110Z"
   },
   {
    "duration": 10,
    "start_time": "2023-06-25T08:21:50.362Z"
   },
   {
    "duration": 3,
    "start_time": "2023-06-25T08:21:57.716Z"
   },
   {
    "duration": 178,
    "start_time": "2023-06-25T08:21:59.493Z"
   },
   {
    "duration": 11,
    "start_time": "2023-06-25T08:22:01.000Z"
   },
   {
    "duration": 28,
    "start_time": "2023-06-25T08:22:03.401Z"
   },
   {
    "duration": 4,
    "start_time": "2023-06-25T08:22:07.564Z"
   },
   {
    "duration": 19,
    "start_time": "2023-06-25T08:22:09.349Z"
   },
   {
    "duration": 5,
    "start_time": "2023-06-25T08:22:11.102Z"
   },
   {
    "duration": 23,
    "start_time": "2023-06-25T08:22:12.798Z"
   },
   {
    "duration": 18,
    "start_time": "2023-06-25T08:27:48.010Z"
   },
   {
    "duration": 22,
    "start_time": "2023-06-25T08:28:15.928Z"
   },
   {
    "duration": 9,
    "start_time": "2023-06-25T08:30:45.208Z"
   },
   {
    "duration": 8,
    "start_time": "2023-06-25T08:30:53.002Z"
   },
   {
    "duration": 19,
    "start_time": "2023-06-25T08:30:59.210Z"
   },
   {
    "duration": 25,
    "start_time": "2023-06-25T08:31:01.505Z"
   },
   {
    "duration": 23,
    "start_time": "2023-06-25T08:31:05.600Z"
   },
   {
    "duration": 21,
    "start_time": "2023-06-25T08:31:08.494Z"
   },
   {
    "duration": 22,
    "start_time": "2023-06-25T08:31:10.760Z"
   },
   {
    "duration": 8,
    "start_time": "2023-06-25T08:32:58.435Z"
   },
   {
    "duration": 8,
    "start_time": "2023-06-25T08:33:14.197Z"
   },
   {
    "duration": 2,
    "start_time": "2023-06-25T08:33:22.806Z"
   },
   {
    "duration": 168,
    "start_time": "2023-06-25T08:33:23.434Z"
   },
   {
    "duration": 12,
    "start_time": "2023-06-25T08:33:24.093Z"
   },
   {
    "duration": 29,
    "start_time": "2023-06-25T08:33:24.738Z"
   },
   {
    "duration": 3,
    "start_time": "2023-06-25T08:33:25.665Z"
   },
   {
    "duration": 5,
    "start_time": "2023-06-25T08:33:26.649Z"
   },
   {
    "duration": 31,
    "start_time": "2023-06-25T08:33:27.322Z"
   },
   {
    "duration": 4,
    "start_time": "2023-06-25T08:33:28.359Z"
   },
   {
    "duration": 24,
    "start_time": "2023-06-25T08:33:29.560Z"
   },
   {
    "duration": 22,
    "start_time": "2023-06-25T08:33:31.501Z"
   },
   {
    "duration": 25,
    "start_time": "2023-06-25T08:33:32.534Z"
   },
   {
    "duration": 9,
    "start_time": "2023-06-25T08:33:33.637Z"
   },
   {
    "duration": 71,
    "start_time": "2023-06-25T08:34:02.706Z"
   },
   {
    "duration": 78,
    "start_time": "2023-06-25T08:34:22.094Z"
   },
   {
    "duration": 59,
    "start_time": "2023-06-25T08:34:38.952Z"
   },
   {
    "duration": 81,
    "start_time": "2023-06-25T08:34:54.229Z"
   },
   {
    "duration": 65,
    "start_time": "2023-06-25T08:34:58.514Z"
   },
   {
    "duration": 88,
    "start_time": "2023-06-25T08:35:03.139Z"
   },
   {
    "duration": 60,
    "start_time": "2023-06-25T08:35:06.468Z"
   },
   {
    "duration": 77,
    "start_time": "2023-06-25T08:35:43.523Z"
   },
   {
    "duration": 61,
    "start_time": "2023-06-25T08:35:47.514Z"
   },
   {
    "duration": 58,
    "start_time": "2023-06-25T08:37:38.044Z"
   },
   {
    "duration": 75,
    "start_time": "2023-06-25T08:37:39.135Z"
   },
   {
    "duration": 71,
    "start_time": "2023-06-25T08:37:40.090Z"
   },
   {
    "duration": 114,
    "start_time": "2023-06-25T08:38:03.154Z"
   },
   {
    "duration": 87,
    "start_time": "2023-06-25T08:38:15.504Z"
   },
   {
    "duration": 81,
    "start_time": "2023-06-25T08:38:23.754Z"
   },
   {
    "duration": 80,
    "start_time": "2023-06-25T08:38:25.398Z"
   },
   {
    "duration": 3,
    "start_time": "2023-06-25T08:38:33.035Z"
   },
   {
    "duration": 171,
    "start_time": "2023-06-25T08:38:33.514Z"
   },
   {
    "duration": 11,
    "start_time": "2023-06-25T08:38:33.847Z"
   },
   {
    "duration": 27,
    "start_time": "2023-06-25T08:38:34.211Z"
   },
   {
    "duration": 2,
    "start_time": "2023-06-25T08:38:35.298Z"
   },
   {
    "duration": 4,
    "start_time": "2023-06-25T08:38:36.844Z"
   },
   {
    "duration": 22,
    "start_time": "2023-06-25T08:38:37.525Z"
   },
   {
    "duration": 5,
    "start_time": "2023-06-25T08:38:38.458Z"
   },
   {
    "duration": 36,
    "start_time": "2023-06-25T08:38:39.522Z"
   },
   {
    "duration": 17,
    "start_time": "2023-06-25T08:38:41.432Z"
   },
   {
    "duration": 23,
    "start_time": "2023-06-25T08:38:42.882Z"
   },
   {
    "duration": 62,
    "start_time": "2023-06-25T08:38:44.230Z"
   },
   {
    "duration": 76,
    "start_time": "2023-06-25T08:38:45.938Z"
   },
   {
    "duration": 63,
    "start_time": "2023-06-25T08:38:47.694Z"
   },
   {
    "duration": 23,
    "start_time": "2023-06-25T08:39:03.514Z"
   },
   {
    "duration": 61,
    "start_time": "2023-06-25T08:39:04.842Z"
   },
   {
    "duration": 72,
    "start_time": "2023-06-25T08:39:08.019Z"
   },
   {
    "duration": 76,
    "start_time": "2023-06-25T08:39:37.094Z"
   },
   {
    "duration": 66,
    "start_time": "2023-06-25T08:39:38.837Z"
   },
   {
    "duration": 35,
    "start_time": "2023-06-25T08:43:14.534Z"
   },
   {
    "duration": 35,
    "start_time": "2023-06-25T08:43:32.194Z"
   },
   {
    "duration": 3,
    "start_time": "2023-06-25T08:56:33.114Z"
   },
   {
    "duration": 178,
    "start_time": "2023-06-25T08:56:33.899Z"
   },
   {
    "duration": 15,
    "start_time": "2023-06-25T08:56:34.668Z"
   },
   {
    "duration": 30,
    "start_time": "2023-06-25T08:56:35.349Z"
   },
   {
    "duration": 3,
    "start_time": "2023-06-25T08:56:36.134Z"
   },
   {
    "duration": 4,
    "start_time": "2023-06-25T08:56:37.206Z"
   },
   {
    "duration": 22,
    "start_time": "2023-06-25T08:56:37.267Z"
   },
   {
    "duration": 4,
    "start_time": "2023-06-25T08:56:37.323Z"
   },
   {
    "duration": 25,
    "start_time": "2023-06-25T08:56:37.387Z"
   },
   {
    "duration": 26,
    "start_time": "2023-06-25T08:56:37.476Z"
   },
   {
    "duration": 32,
    "start_time": "2023-06-25T08:56:37.534Z"
   },
   {
    "duration": 72,
    "start_time": "2023-06-25T08:56:37.905Z"
   },
   {
    "duration": 68,
    "start_time": "2023-06-25T08:56:38.419Z"
   },
   {
    "duration": 65,
    "start_time": "2023-06-25T08:56:38.984Z"
   },
   {
    "duration": 39,
    "start_time": "2023-06-25T08:56:40.891Z"
   },
   {
    "duration": 11,
    "start_time": "2023-06-25T08:58:13.011Z"
   },
   {
    "duration": 10,
    "start_time": "2023-06-25T08:58:24.337Z"
   },
   {
    "duration": 11,
    "start_time": "2023-06-25T08:58:48.633Z"
   },
   {
    "duration": 47,
    "start_time": "2023-06-25T08:58:54.732Z"
   },
   {
    "duration": 10,
    "start_time": "2023-06-25T08:58:56.802Z"
   },
   {
    "duration": 11,
    "start_time": "2023-06-25T08:59:21.972Z"
   },
   {
    "duration": 37,
    "start_time": "2023-06-25T08:59:37.489Z"
   },
   {
    "duration": 11,
    "start_time": "2023-06-25T09:01:41.631Z"
   },
   {
    "duration": 11,
    "start_time": "2023-06-25T09:01:46.972Z"
   },
   {
    "duration": 12,
    "start_time": "2023-06-25T09:02:13.394Z"
   },
   {
    "duration": 13,
    "start_time": "2023-06-25T09:02:22.815Z"
   },
   {
    "duration": 11,
    "start_time": "2023-06-25T09:02:29.628Z"
   },
   {
    "duration": 10,
    "start_time": "2023-06-25T09:02:35.620Z"
   },
   {
    "duration": 9,
    "start_time": "2023-06-25T09:02:44.128Z"
   },
   {
    "duration": 4104,
    "start_time": "2023-06-25T09:04:49.733Z"
   },
   {
    "duration": 37,
    "start_time": "2023-06-25T09:05:00.130Z"
   },
   {
    "duration": 10,
    "start_time": "2023-06-25T09:06:10.245Z"
   },
   {
    "duration": 18,
    "start_time": "2023-06-25T09:07:53.097Z"
   },
   {
    "duration": 17,
    "start_time": "2023-06-25T09:08:05.695Z"
   },
   {
    "duration": 11,
    "start_time": "2023-06-25T09:08:12.448Z"
   },
   {
    "duration": 11,
    "start_time": "2023-06-25T09:09:04.572Z"
   },
   {
    "duration": 4,
    "start_time": "2023-06-25T09:24:53.973Z"
   },
   {
    "duration": 4,
    "start_time": "2023-06-25T09:24:58.715Z"
   },
   {
    "duration": 3,
    "start_time": "2023-06-25T09:30:07.828Z"
   },
   {
    "duration": 8,
    "start_time": "2023-06-25T09:32:38.784Z"
   },
   {
    "duration": 8,
    "start_time": "2023-06-25T09:33:22.691Z"
   },
   {
    "duration": 7,
    "start_time": "2023-06-25T09:34:55.126Z"
   },
   {
    "duration": 12,
    "start_time": "2023-06-25T09:35:00.189Z"
   },
   {
    "duration": 108,
    "start_time": "2023-06-25T09:39:18.060Z"
   },
   {
    "duration": 9,
    "start_time": "2023-06-25T09:39:43.115Z"
   },
   {
    "duration": 9,
    "start_time": "2023-06-25T09:39:50.275Z"
   },
   {
    "duration": 9,
    "start_time": "2023-06-25T09:40:34.964Z"
   },
   {
    "duration": 10,
    "start_time": "2023-06-25T09:40:44.765Z"
   },
   {
    "duration": 11,
    "start_time": "2023-06-25T09:43:13.906Z"
   },
   {
    "duration": 3,
    "start_time": "2023-06-25T09:44:06.006Z"
   },
   {
    "duration": 6,
    "start_time": "2023-06-25T09:48:35.809Z"
   },
   {
    "duration": 11,
    "start_time": "2023-06-25T09:48:43.009Z"
   },
   {
    "duration": 7,
    "start_time": "2023-06-25T09:49:48.029Z"
   },
   {
    "duration": 9,
    "start_time": "2023-06-25T09:49:58.702Z"
   },
   {
    "duration": 11,
    "start_time": "2023-06-25T09:52:19.738Z"
   },
   {
    "duration": 3,
    "start_time": "2023-06-25T09:52:36.263Z"
   },
   {
    "duration": 25,
    "start_time": "2023-06-25T09:52:38.460Z"
   },
   {
    "duration": 22,
    "start_time": "2023-06-25T09:54:58.712Z"
   },
   {
    "duration": 22,
    "start_time": "2023-06-25T09:54:59.244Z"
   },
   {
    "duration": 22,
    "start_time": "2023-06-25T09:54:59.518Z"
   },
   {
    "duration": 25,
    "start_time": "2023-06-25T09:54:59.717Z"
   },
   {
    "duration": 22,
    "start_time": "2023-06-25T09:55:00.155Z"
   },
   {
    "duration": 24,
    "start_time": "2023-06-25T09:55:39.282Z"
   },
   {
    "duration": 20,
    "start_time": "2023-06-25T09:55:39.637Z"
   },
   {
    "duration": 23,
    "start_time": "2023-06-25T09:55:39.814Z"
   },
   {
    "duration": 20,
    "start_time": "2023-06-25T09:55:40.032Z"
   },
   {
    "duration": 24,
    "start_time": "2023-06-25T09:55:40.191Z"
   },
   {
    "duration": 26,
    "start_time": "2023-06-25T09:55:40.421Z"
   },
   {
    "duration": 36,
    "start_time": "2023-06-25T09:56:56.627Z"
   },
   {
    "duration": 24,
    "start_time": "2023-06-25T09:56:56.808Z"
   },
   {
    "duration": 24,
    "start_time": "2023-06-25T09:56:56.988Z"
   },
   {
    "duration": 26,
    "start_time": "2023-06-25T09:56:57.159Z"
   },
   {
    "duration": 33,
    "start_time": "2023-06-25T09:56:57.332Z"
   },
   {
    "duration": 29,
    "start_time": "2023-06-25T09:56:57.798Z"
   },
   {
    "duration": 25,
    "start_time": "2023-06-25T09:59:18.991Z"
   },
   {
    "duration": 23,
    "start_time": "2023-06-25T09:59:19.555Z"
   },
   {
    "duration": 27,
    "start_time": "2023-06-25T09:59:19.761Z"
   },
   {
    "duration": 21,
    "start_time": "2023-06-25T09:59:19.940Z"
   },
   {
    "duration": 25,
    "start_time": "2023-06-25T09:59:20.124Z"
   },
   {
    "duration": 28,
    "start_time": "2023-06-25T09:59:20.493Z"
   },
   {
    "duration": 3,
    "start_time": "2023-06-25T09:59:34.817Z"
   },
   {
    "duration": 24,
    "start_time": "2023-06-25T09:59:35.516Z"
   },
   {
    "duration": 29,
    "start_time": "2023-06-25T09:59:36.116Z"
   },
   {
    "duration": 23,
    "start_time": "2023-06-25T09:59:36.304Z"
   },
   {
    "duration": 20,
    "start_time": "2023-06-25T09:59:36.465Z"
   },
   {
    "duration": 24,
    "start_time": "2023-06-25T09:59:36.636Z"
   },
   {
    "duration": 24,
    "start_time": "2023-06-25T09:59:36.822Z"
   },
   {
    "duration": 26,
    "start_time": "2023-06-25T10:01:32.883Z"
   },
   {
    "duration": 23,
    "start_time": "2023-06-25T10:01:33.083Z"
   },
   {
    "duration": 25,
    "start_time": "2023-06-25T10:01:33.218Z"
   },
   {
    "duration": 22,
    "start_time": "2023-06-25T10:01:33.378Z"
   },
   {
    "duration": 29,
    "start_time": "2023-06-25T10:01:33.561Z"
   },
   {
    "duration": 23,
    "start_time": "2023-06-25T10:01:33.744Z"
   },
   {
    "duration": 26,
    "start_time": "2023-06-25T10:01:38.593Z"
   },
   {
    "duration": 4,
    "start_time": "2023-06-25T10:02:05.203Z"
   },
   {
    "duration": 11,
    "start_time": "2023-06-25T10:02:25.467Z"
   },
   {
    "duration": 4,
    "start_time": "2023-06-25T10:02:31.341Z"
   },
   {
    "duration": 83,
    "start_time": "2023-06-25T10:02:34.534Z"
   },
   {
    "duration": 79,
    "start_time": "2023-06-25T10:02:41.452Z"
   },
   {
    "duration": 98,
    "start_time": "2023-06-25T10:02:45.841Z"
   },
   {
    "duration": 6,
    "start_time": "2023-06-25T10:02:50.373Z"
   },
   {
    "duration": 4,
    "start_time": "2023-06-25T10:03:04.247Z"
   },
   {
    "duration": 11,
    "start_time": "2023-06-25T10:03:05.079Z"
   },
   {
    "duration": 12,
    "start_time": "2023-06-25T10:03:05.696Z"
   },
   {
    "duration": 12,
    "start_time": "2023-06-25T10:03:10.943Z"
   },
   {
    "duration": 11,
    "start_time": "2023-06-25T10:03:11.100Z"
   },
   {
    "duration": 5,
    "start_time": "2023-06-25T10:03:15.583Z"
   },
   {
    "duration": 36,
    "start_time": "2023-06-25T10:03:16.009Z"
   },
   {
    "duration": 25,
    "start_time": "2023-06-25T10:03:16.415Z"
   },
   {
    "duration": 24,
    "start_time": "2023-06-25T10:03:16.848Z"
   },
   {
    "duration": 25,
    "start_time": "2023-06-25T10:03:17.296Z"
   },
   {
    "duration": 28,
    "start_time": "2023-06-25T10:03:17.528Z"
   },
   {
    "duration": 33,
    "start_time": "2023-06-25T10:03:17.727Z"
   },
   {
    "duration": 27,
    "start_time": "2023-06-25T10:03:59.633Z"
   },
   {
    "duration": 26,
    "start_time": "2023-06-25T10:03:59.792Z"
   },
   {
    "duration": 22,
    "start_time": "2023-06-25T10:03:59.946Z"
   },
   {
    "duration": 23,
    "start_time": "2023-06-25T10:04:00.088Z"
   },
   {
    "duration": 25,
    "start_time": "2023-06-25T10:04:00.226Z"
   },
   {
    "duration": 27,
    "start_time": "2023-06-25T10:04:00.395Z"
   },
   {
    "duration": 3,
    "start_time": "2023-06-25T10:04:38.389Z"
   },
   {
    "duration": 25,
    "start_time": "2023-06-25T10:04:39.521Z"
   },
   {
    "duration": 21,
    "start_time": "2023-06-25T10:04:40.061Z"
   },
   {
    "duration": 34,
    "start_time": "2023-06-25T10:04:40.595Z"
   },
   {
    "duration": 20,
    "start_time": "2023-06-25T10:04:41.067Z"
   },
   {
    "duration": 26,
    "start_time": "2023-06-25T10:04:41.441Z"
   },
   {
    "duration": 31,
    "start_time": "2023-06-25T10:04:41.897Z"
   },
   {
    "duration": 5,
    "start_time": "2023-06-25T10:04:53.714Z"
   },
   {
    "duration": 3,
    "start_time": "2023-06-25T10:05:02.936Z"
   },
   {
    "duration": 324,
    "start_time": "2023-06-25T10:05:03.970Z"
   },
   {
    "duration": 78,
    "start_time": "2023-06-25T10:05:04.296Z"
   },
   {
    "duration": 275,
    "start_time": "2023-06-25T10:05:04.754Z"
   },
   {
    "duration": 4,
    "start_time": "2023-06-25T10:05:11.693Z"
   },
   {
    "duration": 25,
    "start_time": "2023-06-25T10:05:12.072Z"
   },
   {
    "duration": 22,
    "start_time": "2023-06-25T10:05:12.285Z"
   },
   {
    "duration": 27,
    "start_time": "2023-06-25T10:05:12.519Z"
   },
   {
    "duration": 20,
    "start_time": "2023-06-25T10:05:12.739Z"
   },
   {
    "duration": 24,
    "start_time": "2023-06-25T10:05:12.946Z"
   },
   {
    "duration": 31,
    "start_time": "2023-06-25T10:05:13.391Z"
   },
   {
    "duration": 4,
    "start_time": "2023-06-25T10:05:40.435Z"
   },
   {
    "duration": 7,
    "start_time": "2023-06-25T10:05:41.989Z"
   },
   {
    "duration": 10,
    "start_time": "2023-06-25T10:05:43.513Z"
   },
   {
    "duration": 30,
    "start_time": "2023-06-25T10:05:58.065Z"
   },
   {
    "duration": 6,
    "start_time": "2023-06-25T10:05:59.377Z"
   },
   {
    "duration": 22,
    "start_time": "2023-06-25T10:06:08.779Z"
   },
   {
    "duration": 22,
    "start_time": "2023-06-25T10:06:20.314Z"
   },
   {
    "duration": 21,
    "start_time": "2023-06-25T10:06:21.728Z"
   },
   {
    "duration": 25,
    "start_time": "2023-06-25T10:06:22.091Z"
   },
   {
    "duration": 27,
    "start_time": "2023-06-25T10:06:23.487Z"
   },
   {
    "duration": 24,
    "start_time": "2023-06-25T10:06:23.655Z"
   },
   {
    "duration": 23,
    "start_time": "2023-06-25T10:06:23.846Z"
   },
   {
    "duration": 26,
    "start_time": "2023-06-25T10:06:40.862Z"
   },
   {
    "duration": 21,
    "start_time": "2023-06-25T10:06:41.055Z"
   },
   {
    "duration": 22,
    "start_time": "2023-06-25T10:06:41.217Z"
   },
   {
    "duration": 27,
    "start_time": "2023-06-25T10:06:41.399Z"
   },
   {
    "duration": 25,
    "start_time": "2023-06-25T10:06:41.584Z"
   },
   {
    "duration": 20,
    "start_time": "2023-06-25T10:06:41.849Z"
   },
   {
    "duration": 6,
    "start_time": "2023-06-25T10:07:09.375Z"
   },
   {
    "duration": 8,
    "start_time": "2023-06-25T10:07:09.628Z"
   },
   {
    "duration": 4,
    "start_time": "2023-06-25T10:07:18.004Z"
   },
   {
    "duration": 23,
    "start_time": "2023-06-25T10:07:18.738Z"
   },
   {
    "duration": 27,
    "start_time": "2023-06-25T10:07:18.940Z"
   },
   {
    "duration": 27,
    "start_time": "2023-06-25T10:07:19.152Z"
   },
   {
    "duration": 21,
    "start_time": "2023-06-25T10:07:19.383Z"
   },
   {
    "duration": 29,
    "start_time": "2023-06-25T10:07:19.817Z"
   },
   {
    "duration": 20,
    "start_time": "2023-06-25T10:07:20.246Z"
   },
   {
    "duration": 5,
    "start_time": "2023-06-25T10:08:18.310Z"
   },
   {
    "duration": 1594,
    "start_time": "2023-06-25T10:08:20.969Z"
   },
   {
    "duration": 0,
    "start_time": "2023-06-25T10:08:22.565Z"
   },
   {
    "duration": 0,
    "start_time": "2023-06-25T10:08:22.566Z"
   },
   {
    "duration": 0,
    "start_time": "2023-06-25T10:08:22.567Z"
   },
   {
    "duration": 1297,
    "start_time": "2023-06-25T10:08:22.695Z"
   },
   {
    "duration": 1890,
    "start_time": "2023-06-25T10:08:24.106Z"
   },
   {
    "duration": 5,
    "start_time": "2023-06-25T10:08:59.132Z"
   },
   {
    "duration": 24,
    "start_time": "2023-06-25T10:08:59.459Z"
   },
   {
    "duration": 23,
    "start_time": "2023-06-25T10:08:59.620Z"
   },
   {
    "duration": 36,
    "start_time": "2023-06-25T10:08:59.820Z"
   },
   {
    "duration": 31,
    "start_time": "2023-06-25T10:09:00.016Z"
   },
   {
    "duration": 24,
    "start_time": "2023-06-25T10:13:13.124Z"
   },
   {
    "duration": 24,
    "start_time": "2023-06-25T10:13:13.758Z"
   },
   {
    "duration": 22,
    "start_time": "2023-06-25T10:13:15.314Z"
   },
   {
    "duration": 21,
    "start_time": "2023-06-25T10:13:15.519Z"
   },
   {
    "duration": 24,
    "start_time": "2023-06-25T10:13:17.092Z"
   },
   {
    "duration": 23,
    "start_time": "2023-06-25T10:13:17.700Z"
   },
   {
    "duration": 4,
    "start_time": "2023-06-25T10:20:49.603Z"
   },
   {
    "duration": 17,
    "start_time": "2023-06-25T10:20:50.714Z"
   },
   {
    "duration": 14,
    "start_time": "2023-06-25T10:20:51.289Z"
   },
   {
    "duration": 16,
    "start_time": "2023-06-25T10:20:51.759Z"
   },
   {
    "duration": 14,
    "start_time": "2023-06-25T10:20:52.173Z"
   },
   {
    "duration": 17,
    "start_time": "2023-06-25T10:20:52.831Z"
   },
   {
    "duration": 16,
    "start_time": "2023-06-25T10:20:53.307Z"
   },
   {
    "duration": 9,
    "start_time": "2023-06-25T10:25:39.211Z"
   },
   {
    "duration": 76,
    "start_time": "2023-06-25T10:25:47.239Z"
   },
   {
    "duration": 114,
    "start_time": "2023-06-25T10:25:57.399Z"
   },
   {
    "duration": 14,
    "start_time": "2023-06-25T10:26:03.695Z"
   },
   {
    "duration": 8,
    "start_time": "2023-06-25T10:27:58.394Z"
   },
   {
    "duration": 8,
    "start_time": "2023-06-25T10:28:14.862Z"
   },
   {
    "duration": 8,
    "start_time": "2023-06-25T10:28:54.737Z"
   },
   {
    "duration": 9,
    "start_time": "2023-06-25T10:29:12.431Z"
   },
   {
    "duration": 10,
    "start_time": "2023-06-25T10:30:07.314Z"
   },
   {
    "duration": 9,
    "start_time": "2023-06-25T10:30:12.823Z"
   },
   {
    "duration": 48,
    "start_time": "2023-06-25T16:30:34.448Z"
   },
   {
    "duration": 367,
    "start_time": "2023-06-25T16:30:44.358Z"
   },
   {
    "duration": 268,
    "start_time": "2023-06-25T16:30:45.059Z"
   },
   {
    "duration": 19,
    "start_time": "2023-06-25T16:30:45.329Z"
   },
   {
    "duration": 37,
    "start_time": "2023-06-25T16:30:45.350Z"
   },
   {
    "duration": 2,
    "start_time": "2023-06-25T16:30:45.389Z"
   },
   {
    "duration": 18,
    "start_time": "2023-06-25T16:30:45.397Z"
   },
   {
    "duration": 28,
    "start_time": "2023-06-25T16:30:45.450Z"
   },
   {
    "duration": 5,
    "start_time": "2023-06-25T16:30:45.515Z"
   },
   {
    "duration": 27,
    "start_time": "2023-06-25T16:30:45.599Z"
   },
   {
    "duration": 19,
    "start_time": "2023-06-25T16:30:45.667Z"
   },
   {
    "duration": 25,
    "start_time": "2023-06-25T16:30:45.727Z"
   },
   {
    "duration": 74,
    "start_time": "2023-06-25T16:30:45.801Z"
   },
   {
    "duration": 83,
    "start_time": "2023-06-25T16:30:45.877Z"
   },
   {
    "duration": 73,
    "start_time": "2023-06-25T16:30:46.242Z"
   },
   {
    "duration": 38,
    "start_time": "2023-06-25T16:30:46.816Z"
   },
   {
    "duration": 14,
    "start_time": "2023-06-25T16:30:46.879Z"
   },
   {
    "duration": 55,
    "start_time": "2023-06-25T16:30:46.936Z"
   },
   {
    "duration": 12,
    "start_time": "2023-06-25T16:30:47.115Z"
   },
   {
    "duration": 13,
    "start_time": "2023-06-25T16:30:47.192Z"
   },
   {
    "duration": 4,
    "start_time": "2023-06-25T16:30:47.271Z"
   },
   {
    "duration": 16,
    "start_time": "2023-06-25T16:30:47.330Z"
   },
   {
    "duration": 14,
    "start_time": "2023-06-25T16:30:47.359Z"
   },
   {
    "duration": 21,
    "start_time": "2023-06-25T16:30:47.396Z"
   },
   {
    "duration": 22,
    "start_time": "2023-06-25T16:30:47.419Z"
   },
   {
    "duration": 17,
    "start_time": "2023-06-25T16:30:47.456Z"
   },
   {
    "duration": 15,
    "start_time": "2023-06-25T16:30:47.516Z"
   },
   {
    "duration": 26,
    "start_time": "2023-06-25T16:30:47.541Z"
   },
   {
    "duration": 28,
    "start_time": "2023-06-25T16:30:47.716Z"
   },
   {
    "duration": 0,
    "start_time": "2023-06-25T16:30:47.746Z"
   },
   {
    "duration": 169,
    "start_time": "2023-06-25T16:30:47.801Z"
   },
   {
    "duration": 0,
    "start_time": "2023-06-25T16:30:47.971Z"
   },
   {
    "duration": 0,
    "start_time": "2023-06-25T16:30:47.974Z"
   },
   {
    "duration": 0,
    "start_time": "2023-06-25T16:30:47.975Z"
   },
   {
    "duration": 0,
    "start_time": "2023-06-25T16:30:47.976Z"
   },
   {
    "duration": 14,
    "start_time": "2023-06-25T16:30:48.100Z"
   },
   {
    "duration": 5,
    "start_time": "2023-06-25T16:30:48.119Z"
   },
   {
    "duration": 2,
    "start_time": "2023-06-25T16:30:48.187Z"
   },
   {
    "duration": 8,
    "start_time": "2023-06-25T16:30:54.092Z"
   },
   {
    "duration": 19,
    "start_time": "2023-06-25T16:31:03.436Z"
   },
   {
    "duration": 15,
    "start_time": "2023-06-25T16:31:30.669Z"
   },
   {
    "duration": 24,
    "start_time": "2023-06-25T16:31:39.788Z"
   },
   {
    "duration": 5,
    "start_time": "2023-06-25T16:42:38.287Z"
   },
   {
    "duration": 6,
    "start_time": "2023-06-25T16:42:40.587Z"
   },
   {
    "duration": 8,
    "start_time": "2023-06-25T16:43:14.677Z"
   },
   {
    "duration": 6,
    "start_time": "2023-06-25T16:43:23.723Z"
   },
   {
    "duration": 9,
    "start_time": "2023-06-25T16:43:38.237Z"
   },
   {
    "duration": 9,
    "start_time": "2023-06-25T16:43:49.894Z"
   },
   {
    "duration": 5,
    "start_time": "2023-06-25T16:44:14.503Z"
   },
   {
    "duration": 4,
    "start_time": "2023-06-25T16:45:35.293Z"
   },
   {
    "duration": 4,
    "start_time": "2023-06-25T16:46:50.847Z"
   },
   {
    "duration": 5,
    "start_time": "2023-06-25T16:48:31.050Z"
   },
   {
    "duration": 4,
    "start_time": "2023-06-25T16:55:23.312Z"
   },
   {
    "duration": 5,
    "start_time": "2023-06-25T16:55:39.115Z"
   },
   {
    "duration": 4,
    "start_time": "2023-06-25T16:56:39.095Z"
   },
   {
    "duration": 5,
    "start_time": "2023-06-25T16:56:55.804Z"
   },
   {
    "duration": 5,
    "start_time": "2023-06-25T16:57:21.538Z"
   },
   {
    "duration": 4,
    "start_time": "2023-06-25T17:00:42.038Z"
   },
   {
    "duration": 6,
    "start_time": "2023-06-25T17:01:33.628Z"
   },
   {
    "duration": 4,
    "start_time": "2023-06-25T17:06:48.520Z"
   },
   {
    "duration": 9,
    "start_time": "2023-06-25T17:07:40.534Z"
   },
   {
    "duration": 10,
    "start_time": "2023-06-25T17:27:29.730Z"
   },
   {
    "duration": 11,
    "start_time": "2023-06-25T17:27:33.687Z"
   },
   {
    "duration": 16,
    "start_time": "2023-06-25T17:27:59.131Z"
   },
   {
    "duration": 9,
    "start_time": "2023-06-25T17:28:24.574Z"
   },
   {
    "duration": 9,
    "start_time": "2023-06-25T17:28:36.348Z"
   },
   {
    "duration": 8,
    "start_time": "2023-06-25T17:28:48.143Z"
   },
   {
    "duration": 9,
    "start_time": "2023-06-25T17:28:55.385Z"
   },
   {
    "duration": 9,
    "start_time": "2023-06-25T17:29:20.303Z"
   },
   {
    "duration": 8,
    "start_time": "2023-06-25T17:29:21.850Z"
   },
   {
    "duration": 19,
    "start_time": "2023-06-25T17:29:23.665Z"
   },
   {
    "duration": 10,
    "start_time": "2023-06-25T17:29:25.971Z"
   },
   {
    "duration": 13,
    "start_time": "2023-06-25T17:30:08.367Z"
   },
   {
    "duration": 21,
    "start_time": "2023-06-25T17:30:52.882Z"
   },
   {
    "duration": 13,
    "start_time": "2023-06-25T17:31:11.268Z"
   },
   {
    "duration": 11,
    "start_time": "2023-06-25T17:35:23.899Z"
   },
   {
    "duration": 11,
    "start_time": "2023-06-25T17:36:04.265Z"
   },
   {
    "duration": 11,
    "start_time": "2023-06-25T17:36:56.827Z"
   },
   {
    "duration": 12,
    "start_time": "2023-06-25T17:38:27.077Z"
   },
   {
    "duration": 12,
    "start_time": "2023-06-25T17:38:30.277Z"
   },
   {
    "duration": 14,
    "start_time": "2023-06-25T17:38:32.879Z"
   },
   {
    "duration": 27,
    "start_time": "2023-06-25T17:39:20.093Z"
   },
   {
    "duration": 30,
    "start_time": "2023-06-25T17:39:38.558Z"
   },
   {
    "duration": 32,
    "start_time": "2023-06-25T17:39:42.099Z"
   },
   {
    "duration": 14,
    "start_time": "2023-06-25T17:40:11.715Z"
   },
   {
    "duration": 12,
    "start_time": "2023-06-25T17:40:19.949Z"
   },
   {
    "duration": 30,
    "start_time": "2023-06-25T17:41:01.546Z"
   },
   {
    "duration": 29,
    "start_time": "2023-06-25T17:41:17.774Z"
   },
   {
    "duration": 30,
    "start_time": "2023-06-25T17:41:22.387Z"
   },
   {
    "duration": 29,
    "start_time": "2023-06-25T17:41:24.712Z"
   },
   {
    "duration": 30,
    "start_time": "2023-06-25T17:41:31.516Z"
   },
   {
    "duration": 47,
    "start_time": "2023-06-25T17:42:12.247Z"
   },
   {
    "duration": 56,
    "start_time": "2023-06-25T17:42:15.752Z"
   },
   {
    "duration": 11,
    "start_time": "2023-06-25T17:42:52.457Z"
   },
   {
    "duration": 47,
    "start_time": "2023-06-25T17:44:05.947Z"
   },
   {
    "duration": 12,
    "start_time": "2023-06-25T17:44:08.162Z"
   },
   {
    "duration": 3,
    "start_time": "2023-06-25T17:50:11.535Z"
   },
   {
    "duration": 171,
    "start_time": "2023-06-25T17:50:11.942Z"
   },
   {
    "duration": 12,
    "start_time": "2023-06-25T17:50:12.488Z"
   },
   {
    "duration": 28,
    "start_time": "2023-06-25T17:50:12.540Z"
   },
   {
    "duration": 2,
    "start_time": "2023-06-25T17:50:12.633Z"
   },
   {
    "duration": 5,
    "start_time": "2023-06-25T17:50:12.752Z"
   },
   {
    "duration": 19,
    "start_time": "2023-06-25T17:50:12.816Z"
   },
   {
    "duration": 6,
    "start_time": "2023-06-25T17:50:12.877Z"
   },
   {
    "duration": 22,
    "start_time": "2023-06-25T17:50:12.935Z"
   },
   {
    "duration": 19,
    "start_time": "2023-06-25T17:50:13.027Z"
   },
   {
    "duration": 22,
    "start_time": "2023-06-25T17:50:13.090Z"
   },
   {
    "duration": 76,
    "start_time": "2023-06-25T17:50:13.156Z"
   },
   {
    "duration": 83,
    "start_time": "2023-06-25T17:50:13.234Z"
   },
   {
    "duration": 64,
    "start_time": "2023-06-25T17:50:13.319Z"
   },
   {
    "duration": 51,
    "start_time": "2023-06-25T17:50:13.384Z"
   },
   {
    "duration": 9,
    "start_time": "2023-06-25T17:50:13.437Z"
   },
   {
    "duration": 36,
    "start_time": "2023-06-25T17:50:13.488Z"
   },
   {
    "duration": 11,
    "start_time": "2023-06-25T17:50:14.271Z"
   },
   {
    "duration": 12,
    "start_time": "2023-06-25T17:50:14.647Z"
   },
   {
    "duration": 3,
    "start_time": "2023-06-25T17:50:15.226Z"
   },
   {
    "duration": 16,
    "start_time": "2023-06-25T17:50:15.912Z"
   },
   {
    "duration": 14,
    "start_time": "2023-06-25T17:50:15.942Z"
   },
   {
    "duration": 15,
    "start_time": "2023-06-25T17:50:15.983Z"
   },
   {
    "duration": 15,
    "start_time": "2023-06-25T17:50:16.002Z"
   },
   {
    "duration": 19,
    "start_time": "2023-06-25T17:50:16.034Z"
   },
   {
    "duration": 14,
    "start_time": "2023-06-25T17:50:16.066Z"
   },
   {
    "duration": 9,
    "start_time": "2023-06-25T17:50:16.122Z"
   },
   {
    "duration": 14,
    "start_time": "2023-06-25T17:50:22.786Z"
   },
   {
    "duration": 11,
    "start_time": "2023-06-25T17:50:23.012Z"
   },
   {
    "duration": 4,
    "start_time": "2023-06-25T17:50:23.845Z"
   },
   {
    "duration": 17,
    "start_time": "2023-06-25T17:50:24.569Z"
   },
   {
    "duration": 12,
    "start_time": "2023-06-25T17:50:25.223Z"
   },
   {
    "duration": 21,
    "start_time": "2023-06-25T17:50:25.587Z"
   },
   {
    "duration": 12,
    "start_time": "2023-06-25T17:50:26.488Z"
   },
   {
    "duration": 49,
    "start_time": "2023-06-25T17:50:28.724Z"
   },
   {
    "duration": 12,
    "start_time": "2023-06-25T17:50:31.037Z"
   },
   {
    "duration": 7,
    "start_time": "2023-06-25T17:52:16.268Z"
   },
   {
    "duration": 30,
    "start_time": "2023-06-25T17:52:38.524Z"
   },
   {
    "duration": 14,
    "start_time": "2023-06-25T17:53:35.456Z"
   },
   {
    "duration": 13,
    "start_time": "2023-06-25T17:53:55.623Z"
   },
   {
    "duration": 13,
    "start_time": "2023-06-25T17:54:18.815Z"
   },
   {
    "duration": 9,
    "start_time": "2023-06-25T17:54:28.499Z"
   },
   {
    "duration": 5,
    "start_time": "2023-06-25T17:54:30.843Z"
   },
   {
    "duration": 6,
    "start_time": "2023-06-25T17:57:25.852Z"
   }
  ],
  "colab": {
   "collapsed_sections": [
    "E0vqbgi9ay0H",
    "VUC88oWjTJw2"
   ],
   "provenance": []
  },
  "kernelspec": {
   "display_name": "Python 3 (ipykernel)",
   "language": "python",
   "name": "python3"
  },
  "language_info": {
   "codemirror_mode": {
    "name": "ipython",
    "version": 3
   },
   "file_extension": ".py",
   "mimetype": "text/x-python",
   "name": "python",
   "nbconvert_exporter": "python",
   "pygments_lexer": "ipython3",
   "version": "3.11.7"
  },
  "toc": {
   "base_numbering": 1,
   "nav_menu": {
    "height": "215px",
    "width": "403px"
   },
   "number_sections": true,
   "sideBar": true,
   "skip_h1_title": true,
   "title_cell": "Table of Contents",
   "title_sidebar": "Contents",
   "toc_cell": false,
   "toc_position": {
    "height": "calc(100% - 180px)",
    "left": "10px",
    "top": "150px",
    "width": "285.825px"
   },
   "toc_section_display": true,
   "toc_window_display": false
  }
 },
 "nbformat": 4,
 "nbformat_minor": 1
}
